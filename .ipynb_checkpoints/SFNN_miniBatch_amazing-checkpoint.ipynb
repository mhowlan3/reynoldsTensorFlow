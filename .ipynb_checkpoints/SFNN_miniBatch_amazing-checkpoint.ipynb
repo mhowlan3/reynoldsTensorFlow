{
 "cells": [
  {
   "cell_type": "code",
   "execution_count": 1,
   "metadata": {
    "collapsed": false
   },
   "outputs": [
    {
     "name": "stderr",
     "output_type": "stream",
     "text": [
      "/home/mhowland/anaconda2/lib/python2.7/site-packages/h5py/__init__.py:34: FutureWarning: Conversion of the second argument of issubdtype from `float` to `np.floating` is deprecated. In future, it will be treated as `np.float64 == np.dtype(float).type`.\n",
      "  from ._conv import register_converters as _register_converters\n"
     ]
    }
   ],
   "source": [
    "## Load modules\n",
    "import tensorflow as tf\n",
    "from tensorflow.python.framework import ops\n",
    "import numpy as np\n",
    "from numpy import genfromtxt\n",
    "import matplotlib.pyplot as plt\n",
    "%matplotlib inline\n",
    "import os\n",
    "cwd = os.getcwd() # current working directory\n",
    "import sys\n",
    "sys.path.append(os.path.abspath(cwd))\n",
    "import utils"
   ]
  },
  {
   "cell_type": "code",
   "execution_count": 2,
   "metadata": {
    "collapsed": true
   },
   "outputs": [],
   "source": [
    "import sys\n",
    "sys.path.append(os.path.abspath(cwd))"
   ]
  },
  {
   "cell_type": "code",
   "execution_count": 3,
   "metadata": {
    "collapsed": true
   },
   "outputs": [],
   "source": [
    "## Load data\n",
    "#data_dir = \"cycle_10bins_conditions_none\"#\"2sec_data_avg\" # name of the data folder\n",
    "\n",
    "# Loading the train, dev, test data from specified folder\n",
    "#os.chdir(cwd+\"/\"+data_dir+\"/train\")\n",
    "#x_train = genfromtxt(\"x_train.csv\", delimiter=',')\n",
    "#y_train = genfromtxt(\"y_train.csv\", delimiter=',')"
   ]
  },
  {
   "cell_type": "code",
   "execution_count": 4,
   "metadata": {
    "collapsed": false
   },
   "outputs": [],
   "source": [
    "# data (num_samples, features)\n",
    "basedir = '/home/mhowland/Dropbox/Research/Stanford/Lele/AWS_2016-06_Multi-Height_Time_Series/'\n",
    "windFile = 'Firewheel_FWL'+str(1)+'_mast_file_tsec_72-months.csv'\n",
    "windFileDev = 'Firewheel_FWL'+str(2)+'_mast_file_tsec_72-months.csv'\n",
    "def importWindFile(basedir, windFile):\n",
    "    data = np.loadtxt(basedir+windFile, delimiter=',', skiprows=7)\n",
    "    ws = np.zeros((data.shape[0],5))\n",
    "    time = np.linspace(0., 10.*data.shape[0],data.shape[0])\n",
    "    nt = ws.shape[0]\n",
    "    hour = data[:,3]\n",
    "    month = data[:,1]\n",
    "    for i  in range(0,5):\n",
    "        ind = 5*(i+1)\n",
    "        ws[:,i] = data[:,ind]\n",
    "    return ws, hour, time, nt, month\n",
    "ws, hour, time, nt, month = importWindFile(basedir, windFile)\n",
    "wsDev, _, _, _, _ = importWindFile(basedir, windFile)"
   ]
  },
  {
   "cell_type": "code",
   "execution_count": 5,
   "metadata": {
    "collapsed": false,
    "scrolled": true
   },
   "outputs": [
    {
     "name": "stdout",
     "output_type": "stream",
     "text": [
      "(15616, 17)\n",
      "(3072, 17)\n"
     ]
    }
   ],
   "source": [
    "# Full dataset\n",
    "Nt = ws.shape[0]\n",
    "# Physical parameters\n",
    "horizon = 18\n",
    "dataHeight = 0 # index of the height we want\n",
    "# Initialize\n",
    "xFull = np.zeros((horizon-1,Nt))\n",
    "yFull = np.zeros((Nt,1))\n",
    "xFullDev = np.zeros((horizon-1,Nt))\n",
    "yFullDev = np.zeros((Nt,1))\n",
    "for i in range(horizon,Nt):\n",
    "    xFull[:,i-horizon] = ws[i-horizon:i-1,dataHeight]\n",
    "    yFull[i-horizon] = ws[i,dataHeight]\n",
    "    xFullDev[:,i-horizon] = wsDev[i-horizon:i-1,dataHeight]\n",
    "    yFullDev[i-horizon] = wsDev[i,dataHeight]\n",
    "# Select the dev set\n",
    "randomSeed = int(np.round(np.random.rand(1)*Nt))\n",
    "n_dev = int(np.round(Nt*0.01)) # use 1% of the data for dev\n",
    "#x_dev = xFull[:,randomSeed:randomSeed+n_dev]\n",
    "#y_dev = yFull[randomSeed:randomSeed+n_dev]\n",
    "#x_dev = x_dev.T\n",
    "# Set the test data as the rest of it\n",
    "#x_train = np.append(xFull[:,0:randomSeed-1],xFull[:,randomSeed+n_dev+1:Nt],axis=1)\n",
    "#y_train = np.append(yFull[0:randomSeed-1],yFull[randomSeed+n_dev+1:Nt],axis=0)\n",
    "#x_train = x_train.T\n",
    "\n",
    "## Instead use an entirely different MET tower\n",
    "x_dev = xFullDev[:,0:n_dev]\n",
    "y_dev = yFullDev[0:n_dev]\n",
    "x_dev = x_dev.T\n",
    "x_train = xFull[:,0:n_dev*5]\n",
    "y_train = yFull[0:n_dev*5]\n",
    "x_train = x_train.T\n",
    "time = time[0:n_dev]\n",
    "# Make a multiple of the minibatch size\n",
    "newNtrain = int(np.floor(x_train.shape[0])/256)\n",
    "x_train = x_train[0:newNtrain*256,:]\n",
    "newNdev = int(np.floor(x_dev.shape[0])/256)\n",
    "x_dev = x_dev[0:newNdev*256,:]\n",
    "\n",
    "print(x_train.shape)\n",
    "print(x_dev.shape)"
   ]
  },
  {
   "cell_type": "code",
   "execution_count": 6,
   "metadata": {
    "collapsed": false
   },
   "outputs": [],
   "source": [
    "# Train set\n",
    "#nt = 1000\n",
    "#horizon = 18\n",
    "#n_train = nt-horizon\n",
    "#x_train = np.zeros((horizon-1,n_train))\n",
    "#y_train = np.zeros((n_train,1))\n",
    "#dataHeight = 0 # index of the height we want\n",
    "#for i in range(horizon,nt):\n",
    "#    x_train[:,i-horizon] = ws[i-horizon:i-1,dataHeight]\n",
    "#    y_train[i-horizon] = ws[i,dataHeight]\n",
    "#x_train = x_train.T\n",
    "# Dev set\n",
    "#randomSeed = 180 # days in the future from the train set\n",
    "#randomSeed = randomSeed*24*6 # dev is some amount of day in the future\n",
    "#nd = 100\n",
    "#n_dev = nd-horizon\n",
    "#x_dev = np.zeros((horizon-1,n_dev))\n",
    "#y_dev = np.zeros((n_dev,1))\n",
    "#for i in range(horizon,nd):\n",
    "#    x_dev[:,i-horizon] = ws[randomSeed+i-horizon:randomSeed+i-1,dataHeight]\n",
    "#    y_dev[i-horizon] = ws[randomSeed+i,dataHeight]\n",
    "#x_dev = x_dev.T"
   ]
  },
  {
   "cell_type": "code",
   "execution_count": 7,
   "metadata": {
    "collapsed": true
   },
   "outputs": [],
   "source": [
    "#print(x_all.shape)\n",
    "#x_train = x_all[10:110,10:20] # (100,10)\n",
    "data_size, features = x_train.shape"
   ]
  },
  {
   "cell_type": "code",
   "execution_count": 8,
   "metadata": {
    "collapsed": false
   },
   "outputs": [
    {
     "name": "stdout",
     "output_type": "stream",
     "text": [
      "(17, 15616)\n",
      "(15775,)\n"
     ]
    }
   ],
   "source": [
    "def normalize_data(data):\n",
    "    mu = np.mean(data,axis=0) # compute the mean along axis = 0 (num_samples for raw data)\n",
    "    cov = np.std(data,axis=0) # using std instead of variance seems to be best\n",
    "    return mu, cov # returning the normalizations for the data\n",
    "\n",
    "x_mu, x_cov = normalize_data(x_train) # x_train is (features x num_samples)\n",
    "y_mu, y_cov = normalize_data(y_train) # x_train is (features x num_samples)\n",
    "\n",
    "#y_mu, y_cov = normalize_data(y_train)\n",
    "\n",
    "X_train = ((x_train - x_mu)/x_cov).T # still in (features, data_samples)\n",
    "Y_train = np.squeeze(y_train)\n",
    "X_dev = ((x_dev - x_mu)/x_cov).T # still in (features, data_samples)\n",
    "Y_dev = np.squeeze(y_dev)\n",
    "\n",
    "print(X_train.shape)\n",
    "print(Y_train.shape)"
   ]
  },
  {
   "cell_type": "code",
   "execution_count": 22,
   "metadata": {
    "collapsed": true
   },
   "outputs": [],
   "source": [
    "def initialize_parameters(num_hid_layers, size_hid_layers, n_x, output_size, num_filt):\n",
    "    parameters = {}\n",
    "    total_layers = num_hid_layers\n",
    "    \n",
    "    n_x_orig = n_x/num_filt\n",
    "    \n",
    "    F1 = tf.get_variable(\"F1\", [6, 1, 1], initializer = tf.contrib.layers.xavier_initializer(seed = 0))\n",
    "    parameters['F' + str(1)] = F1\n",
    "    F2 = tf.get_variable(\"F2\", [6, 1, 1], initializer = tf.contrib.layers.xavier_initializer(seed = 0))\n",
    "    parameters['F' + str(2)] = F2\n",
    "    F3 = tf.get_variable(\"F3\", [6, 1, 1], initializer = tf.contrib.layers.xavier_initializer(seed = 0))\n",
    "    parameters['F' + str(3)] = F3\n",
    "    F4 = tf.get_variable(\"F4\", [6, 1, 1], initializer = tf.contrib.layers.xavier_initializer(seed = 0))\n",
    "    parameters['F' + str(4)] = F4\n",
    "    F5 = tf.get_variable(\"F5\", [6, 1, 1], initializer = tf.contrib.layers.xavier_initializer(seed = 0))\n",
    "    parameters['F' + str(5)] = F5\n",
    "    F6 = tf.get_variable(\"F6\", [6, 1, 1], initializer = tf.contrib.layers.xavier_initializer(seed = 0))\n",
    "    parameters['F' + str(6)] = F6\n",
    "    F7 = tf.get_variable(\"F7\", [6, 1, 1], initializer = tf.contrib.layers.xavier_initializer(seed = 0))\n",
    "    parameters['F' + str(7)] = F7\n",
    "    F8 = tf.get_variable(\"F8\", [6, 1, 1], initializer = tf.contrib.layers.xavier_initializer(seed = 0))\n",
    "    parameters['F' + str(8)] = F8\n",
    "    F9 = tf.get_variable(\"F9\", [6, 1, 1], initializer = tf.contrib.layers.xavier_initializer(seed = 0))\n",
    "    parameters['F' + str(9)] = F9\n",
    "\n",
    "    \n",
    "    for l in range(1,total_layers+1):\n",
    "        if l == 1:\n",
    "            a = size_hid_layers\n",
    "            b = n_x\n",
    "        elif l == total_layers:\n",
    "            a = output_size\n",
    "            b = size_hid_layers\n",
    "        else:\n",
    "            a = size_hid_layers\n",
    "            b = size_hid_layers\n",
    "            \n",
    "        parameters['w' + str(l)] = tf.get_variable('w'+str(l), [a, b], initializer = tf.contrib.layers.xavier_initializer(seed = 1))\n",
    "        parameters['b' + str(l)] = tf.get_variable('b'+str(l), [a,1], initializer = tf.zeros_initializer())   \n",
    "    return parameters"
   ]
  },
  {
   "cell_type": "code",
   "execution_count": 23,
   "metadata": {
    "collapsed": true
   },
   "outputs": [],
   "source": [
    "def forward_prop(X,parameters, total_layers,  m, n_x, keep_prob=1., num_filts = 1):\n",
    "    #total_layers = len(parameters)//2\n",
    "    layer_outputs = {}\n",
    "    \n",
    "    # Get filters\n",
    "    #F1 = parameters['F1']\n",
    "    #t = X.get_shape().as_list()\n",
    "    #m = t[0]\n",
    "    #n_x = t[1]\n",
    "    \n",
    "    #num_filts = 4\n",
    "    X = tf.transpose(X)\n",
    "    X = tf.reshape(X, [m, n_x, 1])\n",
    "    #X = tf.reshape(X, [m, n_x, 1, 1])\n",
    "    for ll in range(1,num_filts+1):\n",
    "        #print(tf.shape(X[0:m,(l-1)*n_x:l*n_x+1, :]))\n",
    "        #print(tf.shape(parameters['F' + str(l)]))\n",
    "        X = tf.concat([X, tf.nn.conv1d(X[0:m,(ll-1)*n_x:ll*n_x+1, :], parameters['F' + str(ll)], stride = 1, padding = 'SAME')], axis=1)\n",
    "    X = tf.squeeze(tf.squeeze(X))\n",
    "    X = tf.reshape(X, [m, n_x*(num_filts+1)])\n",
    "    X = tf.transpose(X)\n",
    "    layer_outputs['A0'] = X\n",
    "    \n",
    "    for l in range(1,total_layers+1):\n",
    "        layer_outputs['Z' + str(l)] = tf.matmul(parameters['w' + str(l)],layer_outputs['A' + str(l-1)])+parameters['b' + str(l)]\n",
    "        layer_outputs['A' + str(l)] = tf.nn.relu(layer_outputs['Z' + str(l)])\n",
    "        layer_outputs['A' + str(l)] = tf.nn.dropout(layer_outputs['A' + str(l)],keep_prob)\n",
    "    \n",
    "    return layer_outputs['Z' + str(total_layers)]"
   ]
  },
  {
   "cell_type": "code",
   "execution_count": 24,
   "metadata": {
    "collapsed": true
   },
   "outputs": [],
   "source": [
    "# DID NOT WRITE! MUST CITE COURSE:\n",
    "# https://github.com/JudasDie/deeplearning.ai/blob/master/Convolutional%20Neural%20Networks/week1/cnn_utils.py\n",
    "def random_mini_batches(X, Y, mini_batch_size = 64, seed = 0):\n",
    "    \"\"\"\n",
    "    Creates a list of random minibatches from (X, Y)\n",
    "    \n",
    "    Arguments:\n",
    "    X -- input data, of shape (input size, number of examples) (m, Hi, Wi, Ci)\n",
    "    Y -- true \"label\" vector (containing 0 if cat, 1 if non-cat), of shape (1, number of examples) (m, n_y)\n",
    "    mini_batch_size - size of the mini-batches, integer\n",
    "    seed -- this is only for the purpose of grading, so that you're \"random minibatches are the same as ours.\n",
    "    \n",
    "    Returns:\n",
    "    mini_batches -- list of synchronous (mini_batch_X, mini_batch_Y)\n",
    "    \"\"\"\n",
    "    \n",
    "    m = X.shape[1]                  # number of training examples\n",
    "    mini_batches = []\n",
    "    np.random.seed(seed)\n",
    "    \n",
    "    # Step 1: Shuffle (X, Y)\n",
    "    permutation = list(np.random.permutation(m))\n",
    "    shuffled_X = X[:,permutation]\n",
    "    shuffled_Y = Y[permutation]\n",
    "\n",
    "    # Step 2: Partition (shuffled_X, shuffled_Y). Minus the end case.\n",
    "    num_complete_minibatches = int(np.floor(m/mini_batch_size)) # number of mini batches of size mini_batch_size in your partitionning\n",
    "    for k in range(0, num_complete_minibatches):\n",
    "        mini_batch_X = shuffled_X[:,k * mini_batch_size : k * mini_batch_size + mini_batch_size]\n",
    "        mini_batch_Y = shuffled_Y[k * mini_batch_size : k * mini_batch_size + mini_batch_size]\n",
    "        mini_batch = (mini_batch_X, mini_batch_Y)\n",
    "        mini_batches.append(mini_batch)\n",
    "    \n",
    "    # Handling the end case (last mini-batch < mini_batch_size)\n",
    "    if m % mini_batch_size != 0:\n",
    "        mini_batch_X = shuffled_X[:,num_complete_minibatches * mini_batch_size : m]\n",
    "        mini_batch_Y = shuffled_Y[num_complete_minibatches * mini_batch_size : m]\n",
    "        mini_batch = (mini_batch_X, mini_batch_Y)\n",
    "        mini_batches.append(mini_batch)\n",
    "    \n",
    "    return mini_batches, permutation"
   ]
  },
  {
   "cell_type": "code",
   "execution_count": 25,
   "metadata": {
    "collapsed": false
   },
   "outputs": [],
   "source": [
    "#def model(X_train, Y_train, X_dev, Y_dev, learning_rate, beta, k_p,\n",
    "#         num_epochs, num_hid_layers, size_hid_layers, minibatch_size, print_interval=10,plotting = True,\n",
    "#         reg_type='L2'):\n",
    "def model(X_train, Y_train, X_dev, Y_dev, learning_rate, beta, k_p, reg_type,\n",
    "          num_epochs, num_hid_layers, size_hid_layers, minibatch_size, log_dir, print_loss=True, \n",
    "          plotting = True, print_interval=10, plot_interval=100, parallel=False, queue=0):\n",
    "\n",
    "    ops.reset_default_graph()                         # to be able to rerun the model without overwriting tf variables\n",
    "    tf.set_random_seed(1)                             # to keep consistent results\n",
    "    (n_x, m) = X_train.shape                          # (n_x: input size, m : number of examples in the train set)\n",
    "    n_y = Y_train.shape[0]                            # n_y : output size\n",
    "    losses = []                                        # To keep track of the cost\n",
    "    train_errs = []                                        # To keep track of the cost\n",
    "    epochs = [] # keep track of epoch number\n",
    "    dev_errs = []                                        # To keep track of the cost\n",
    "    eps = 10**-8.\n",
    "    trainMiniY = []\n",
    "    devMiniY = []\n",
    "    seed = 3\n",
    "    train_preds = []\n",
    "    mDev = X_dev.shape[1]\n",
    "    dev_preds = []\n",
    "    devBatchY = []\n",
    "    permutations = []\n",
    "    dev_predsOut = np.zeros((mDev,))\n",
    "    Y_dev_out = np.zeros((mDev,))\n",
    "    \n",
    "    O = 1 # output size?\n",
    "    \n",
    "    # Successive filters\n",
    "    num_filt = 9\n",
    "    \n",
    "    X = tf.placeholder(tf.float32,[n_x,None])\n",
    "    Y = tf.placeholder(tf.float32,[None])\n",
    "    keep_prob = tf.placeholder(tf.float32)\n",
    "    \n",
    "    #parameters = initialize_parameters(num_hid_layers, size_hid_layers, n_x, O)\n",
    "    #out = forward_prop(X, parameters)\n",
    "    parameters = initialize_parameters(num_hid_layers, size_hid_layers, n_x*(num_filt+1), O, num_filt)\n",
    "    out = forward_prop(X, parameters, num_hid_layers, minibatch_size, n_x, num_filts = num_filt)\n",
    "    \n",
    "    #loss = tf.reduce_mean(tf.squared_difference(out, Y)) # L2 loss --> not good for our problem\n",
    "    loss = tf.reduce_mean(tf.losses.absolute_difference(tf.squeeze(Y),tf.squeeze(out))) # L1 loss\n",
    "    \n",
    "    # Loss function with L2 Regularization\n",
    "    if reg_type == \"L2\":\n",
    "        for l in range(1,num_hid_layers+1):\n",
    "            if l == 1:\n",
    "                regularizers = tf.nn.l2_loss(parameters['w' + str(l)]) \n",
    "            else:\n",
    "                regularizers = regularizers + tf.nn.l2_loss(parameters['w' + str(l)])\n",
    "\n",
    "        loss = tf.reduce_mean(loss + beta * regularizers)\n",
    "    elif reg_type == \"L1\":\n",
    "        print(\"Add L1 regularization here\")\n",
    "    \n",
    "    optimizer = tf.train.AdamOptimizer(learning_rate).minimize(loss) # Optimizer, change the learning rate here\n",
    "\n",
    "    init = tf.global_variables_initializer() # When init is run later (session.run(init)),\n",
    "    saver = tf.train.Saver()\n",
    "    \n",
    "    # Start logging file for this particular model\n",
    "    if print_loss:\n",
    "        file = open(log_dir,'a') \n",
    "        file.write('START OF NEW MODEL\\n') \n",
    "        file.write(\"learning rate = %f, hidden layers = %d, hidden units = %d, epochs = %d \\n\"% (learning_rate, num_hid_layers, size_hid_layers, num_epochs))\n",
    "        file.write(\"L2 beta = %f, Dropout Keep Prob = %f \\n\"% (beta, k_p)) \n",
    "        file.close() \n",
    "        \n",
    "        \n",
    "    with tf.Session() as sess: # starting tf session --> all computation on tf graph in this with struct\n",
    "        sess.run(init)\n",
    "        for epoch in range(num_epochs+1):\n",
    "            minibatch_cost = 0.\n",
    "            num_minibatches = int(m / minibatch_size) # number of minibatches of size minibatch_size in the train set\n",
    "            seed = seed + 1\n",
    "            minibatches, _ = random_mini_batches(X_train, Y_train, minibatch_size, seed)\n",
    "\n",
    "            for minibatch in minibatches:\n",
    "\n",
    "                # Select a minibatch\n",
    "                (minibatch_X, minibatch_Y) = minibatch\n",
    "                _ , temp_cost = sess.run([optimizer,loss], feed_dict={X: minibatch_X, Y: minibatch_Y})\n",
    "                # Minibatch stats\n",
    "                train_pred = sess.run(out, feed_dict={X: minibatch_X})\n",
    "                #train_err = np.divide(np.mean(abs(train_pred - minibatch_Y)),np.mean(abs(minibatch_Y))) # absolute error\n",
    "                #train_errs.append(train_err)\n",
    "                train_preds = np.append(train_preds, train_pred)\n",
    "                trainMiniY = np.append(trainMiniY, minibatch_Y)\n",
    "                minibatch_cost += temp_cost / num_minibatches\n",
    "            train_err = np.divide(np.mean(abs(train_preds - trainMiniY)),np.mean(abs(trainMiniY)))\n",
    "            train_errs.append(train_err)\n",
    "            loss_val = minibatch_cost\n",
    "            losses.append(loss_val)\n",
    "            \n",
    "            if epoch % (num_epochs/print_interval) == 0:\n",
    "                print(\"Loss: \",loss_val)\n",
    "                # Output the predictions\n",
    "                log_dir = 'test'\n",
    "                saver.save(sess, './modelCheckpoints/'+log_dir+'SFNN.ckpt')\n",
    "                # Loop over dev set\n",
    "                num_minibatches = int(mDev / minibatch_size)\n",
    "                seed = seed + 1\n",
    "                minibatches, permutations = random_mini_batches(X_dev, Y_dev, minibatch_size, seed)\n",
    "                dev_preds = []\n",
    "                devBatchY = []\n",
    "                for minibatch in minibatches:\n",
    "                    # Select a minibatch\n",
    "                    (minibatch_X, minibatch_Y) = minibatch\n",
    "                    _ , temp_cost = sess.run([optimizer,loss], feed_dict={X: minibatch_X, Y: minibatch_Y})\n",
    "                    dev_pred = sess.run(out, feed_dict={X: minibatch_X})\n",
    "                    dev_preds = np.append(dev_preds, dev_pred)\n",
    "                    devBatchY = np.append(devBatchY, minibatch_Y)\n",
    "                dev_err = np.divide(np.mean(abs(dev_preds - devBatchY)),np.mean(abs(devBatchY))) # absolute error\n",
    "                dev_errs.append(dev_err)\n",
    "                dev_predsOut[permutations] = dev_preds\n",
    "                Y_dev_out[permutations] = devBatchY\n",
    "                #fig = plt.figure(num=None, dpi=200, facecolor='w', edgecolor='k'); ax = plt.gca()\n",
    "                #plt.plot(np.squeeze(devBatchY), '-')\n",
    "                #plt.plot(np.squeeze(dev_preds), '-')\n",
    "                epochs.append(epoch)\n",
    "                if print_loss:\n",
    "                    file = open(log_dir,'a') \n",
    "                    file.write(\"Epoch %d loss: %f \\n\" % (epoch, loss_val) )\n",
    "                    file.write(\"Train error: %f \\n\" % (train_err)) \n",
    "                    file.write(\"Dev error: %f \\n\" % (dev_err))\n",
    "                    file.close() \n",
    "                print('Train error: ', train_err)\n",
    "                print('Dev error: ', dev_err)\n",
    "        if plotting:\n",
    "            # Plot percent errors during iterations\n",
    "            fig = plt.figure(num=None, dpi=200, facecolor='w', edgecolor='k'); ax = plt.gca()\n",
    "            plt.plot(np.squeeze(train_errs))\n",
    "            ax.set_yscale('log')\n",
    "            plt.ylabel('Percent error')\n",
    "            plt.title(\"Error for learning rate = \" + str(learning_rate))\n",
    "            plt.show()\n",
    "    ind = np.argmin(dev_errs)\n",
    "    min_dev = dev_errs[ind]\n",
    "    min_epoch = epochs[ind] \n",
    "    \n",
    "    results = train_errs, Y_train, train_preds, Y_dev_out, dev_predsOut, dev_errs, min_dev, min_epoch\n",
    "    #results = train_err, dev_err, test_err, min_dev, min_epoch\n",
    "    return results"
   ]
  },
  {
   "cell_type": "code",
   "execution_count": 31,
   "metadata": {
    "collapsed": false,
    "scrolled": true
   },
   "outputs": [
    {
     "name": "stdout",
     "output_type": "stream",
     "text": [
      "('Loss: ', 2.4898337672968367)\n",
      "('Train error: ', 0.28813033681519534)\n",
      "('Dev error: ', 0.11706799457514547)\n",
      "('Loss: ', 0.6493811265366977)\n",
      "('Train error: ', 0.08816478464388602)\n",
      "('Dev error: ', 0.08043185297061987)\n",
      "('Loss: ', 0.585212295661207)\n",
      "('Train error: ', 0.08018507306966309)\n",
      "('Dev error: ', 0.06447450887722588)\n",
      "('Loss: ', 0.5478255294385505)\n",
      "('Train error: ', 0.07573268274520233)\n",
      "('Dev error: ', 0.06143819708684939)\n",
      "('Loss: ', 0.5217361122858328)\n",
      "('Train error: ', 0.0727141139783507)\n",
      "('Dev error: ', 0.05845364836156461)\n",
      "('Loss: ', 0.5135388476926772)\n",
      "('Train error: ', 0.07045551628745154)\n",
      "('Dev error: ', 0.0578911118506811)\n",
      "('Loss: ', 0.49364430738277126)\n",
      "('Train error: ', 0.06863550999155457)\n",
      "('Dev error: ', 0.05496234458417835)\n",
      "('Loss: ', 0.5103317631072685)\n",
      "('Train error: ', 0.06717885691866798)\n",
      "('Dev error: ', 0.057551396933572106)\n",
      "('Loss: ', 0.4781041746256783)\n",
      "('Train error: ', 0.0659414584565781)\n",
      "('Dev error: ', 0.053200897343353905)\n",
      "('Loss: ', 0.47424085364967106)\n",
      "('Train error: ', 0.06484047452255376)\n",
      "('Dev error: ', 0.05406779598826354)\n",
      "('Loss: ', 0.46928149706027544)\n",
      "('Train error: ', 0.06390492654881522)\n",
      "('Dev error: ', 0.052776044347864766)\n"
     ]
    },
    {
     "data": {
      "image/png": "[encoded data removed]",
      "text/plain": [
       "<matplotlib.figure.Figure at 0x7f4048306ed0>"
      ]
     },
     "metadata": {},
     "output_type": "display_data"
    }
   ],
   "source": [
    "learning_rate = 0.005#0.0005\n",
    "num_epochs = 1000 # total number of epochs to iterate through\n",
    "print_interval = 10 # number of prints per total run\n",
    "minibatch_size = 256\n",
    "num_hid_layers = 10\n",
    "size_hid_layers = 64\n",
    "beta=0\n",
    "reg_type = 'L2N'\n",
    "k_p = 1.\n",
    "log_dir = 'testwut'\n",
    "\n",
    "#results=model(X_train, Y_train, X_dev, Y_dev, learning_rate, num_epochs, num_hid_layers, size_hid_layers, minibatch_size, print_interval, plotting=False)\n",
    "results=model(X_train, Y_train, X_dev, Y_dev, learning_rate, beta, k_p, reg_type,\n",
    "          num_epochs, num_hid_layers, size_hid_layers, minibatch_size, log_dir, print_loss=True, \n",
    "          plotting = True, print_interval=print_interval, plot_interval=100, parallel=False, queue=0)"
   ]
  },
  {
   "cell_type": "code",
   "execution_count": 32,
   "metadata": {
    "collapsed": false
   },
   "outputs": [
    {
     "name": "stdout",
     "output_type": "stream",
     "text": [
      "(0.066133063676375, 0.052776044347864766)\n"
     ]
    }
   ],
   "source": [
    "nt = results[3].shape[0]\n",
    "shift_err = np.divide(np.mean(abs(results[3][0:nt-1] - results[3][1:nt])),np.mean(abs(results[3][1:nt])))\n",
    "print(shift_err, results[5][-1])"
   ]
  },
  {
   "cell_type": "code",
   "execution_count": 33,
   "metadata": {
    "collapsed": false
   },
   "outputs": [
    {
     "data": {
      "image/png": "[encoded data removed]",
      "text/plain": [
       "<matplotlib.figure.Figure at 0x7f40482a5890>"
      ]
     },
     "metadata": {},
     "output_type": "display_data"
    },
    {
     "data": {
      "image/png": "[encoded data removed]",
      "text/plain": [
       "<matplotlib.figure.Figure at 0x7f3fd2e10d10>"
      ]
     },
     "metadata": {},
     "output_type": "display_data"
    },
    {
     "name": "stdout",
     "output_type": "stream",
     "text": [
      "((3072,), (3071,), (3072,))\n"
     ]
    },
    {
     "data": {
      "image/png": "[encoded data removed]",
      "text/plain": [
       "<matplotlib.figure.Figure at 0x7f40480ddb50>"
      ]
     },
     "metadata": {},
     "output_type": "display_data"
    }
   ],
   "source": [
    "## Plot Results\n",
    "plotData = True\n",
    "plotPred = True\n",
    "if plotData==True:\n",
    "    # Train error\n",
    "    train_err = results[0]\n",
    "    fig = plt.figure(num=None, dpi=200, facecolor='w', edgecolor='k'); ax = plt.gca()\n",
    "    plt.plot(np.squeeze(train_err))\n",
    "    ax.set_yscale('log')\n",
    "    plt.ylabel('Train percent error')\n",
    "    plt.title(\"Error for learning rate = \" + str(learning_rate))\n",
    "    plt.show()\n",
    "    # Dev error\n",
    "    dev_err = results[5]\n",
    "    fig = plt.figure(num=None, dpi=200, facecolor='w', edgecolor='k'); ax = plt.gca()\n",
    "    plt.plot(np.squeeze(dev_err))\n",
    "    ax.set_yscale('log')\n",
    "    plt.ylabel('Dev percent error')\n",
    "    plt.title(\"Error for learning rate = \" + str(learning_rate))\n",
    "    plt.show()\n",
    "    if plotPred == True:\n",
    "        # Predictions vs train\n",
    "        #Y_train = results[1]\n",
    "        #Y_pred = results[2]\n",
    "        #fig = plt.figure(num=None, dpi=200, facecolor='w', edgecolor='k'); ax = plt.gca()\n",
    "        #plt.plot(np.squeeze(Y_train[1:1000]))\n",
    "        #plt.plot(np.squeeze(Y_pred[1:1000]))\n",
    "        #plt.ylabel('Wind speed, [m/s]')\n",
    "        #plt.show()\n",
    "        # Predictions vs dev\n",
    "        Y_dev = results[3]\n",
    "        Y_shift = results[3][1:nt]\n",
    "        dev_pred = results[4]\n",
    "        fig = plt.figure(num=None, dpi=200, facecolor='w', edgecolor='k'); ax = plt.gca()\n",
    "        time = np.linspace(0,10*float(Y_dev.shape[0])/(60. * 24.), Y_dev.shape[0])\n",
    "        print(Y_dev.shape, Y_shift.shape, dev_pred.shape)\n",
    "        plt.plot(time,np.squeeze(Y_dev), '-')\n",
    "        plt.plot(time[1:nt],np.squeeze(Y_dev[0:nt-1]), '.')\n",
    "        plt.plot(time,np.squeeze(dev_pred), 'o')\n",
    "        plt.ylabel('Wind speed, [m/s]')\n",
    "        plt.xlabel('Time, [days]')\n",
    "        plt.xlim( (5, 6) ) \n",
    "        plt.show()\n"
   ]
  },
  {
   "cell_type": "code",
   "execution_count": 30,
   "metadata": {
    "collapsed": false
   },
   "outputs": [
    {
     "name": "stdout",
     "output_type": "stream",
     "text": [
      "0.10195179598910636\n",
      "[0.09775161694681321, 0.10195179598910636]\n"
     ]
    }
   ],
   "source": [
    "dev_err = np.divide(np.mean(abs(Y_dev - dev_pred)),np.mean(abs(Y_dev)))\n",
    "print(dev_err)\n",
    "print(results[5])"
   ]
  },
  {
   "cell_type": "code",
   "execution_count": null,
   "metadata": {
    "collapsed": false
   },
   "outputs": [],
   "source": [
    "# Does creating a log file in each call to the model function mess up the main log file?\n",
    "\n",
    "def hyperparamSearch(X_train, Y_train, X_dev, Y_dev, lr_rng, num_hid_layers_rng, beta_rng, k_p_rng, reg_type,\n",
    "                 size_hid_layers_rng, num_sims, num_epochs, minibatch_size, log_dir, parallel, cores):\n",
    "    # compute random values within the ranges for each param of length num_sims\n",
    "    num_features, data_length = X_train.shape \n",
    "    num_params = 5\n",
    "    np.random.seed(13) # set seed for rand\n",
    "    lower_bounds = [lr_rng[0],num_hid_layers_rng[0],size_hid_layers_rng[0],beta_rng[0],k_p_rng[0]]\n",
    "    upper_bounds = [lr_rng[1],num_hid_layers_rng[1],size_hid_layers_rng[1],beta_rng[1],k_p_rng[1]]\n",
    "    sample_size = [num_sims, num_params] # num_sims x number of params in search\n",
    "    samples_params = np.random.uniform(lower_bounds, upper_bounds, sample_size)\n",
    "\n",
    "    # modifying the initial random parameters\n",
    "    lr_samples = 10**samples_params[:,0] # log scale\n",
    "    hl_samples = samples_params[:,1].astype(int) # rounded down to nearest int\n",
    "    hu_samples = (samples_params[:,2]*num_features).astype(int) # base of 10 neurons used for each level\n",
    "    beta = samples_params[:,3]\n",
    "    k_p = samples_params[:,4]\n",
    "    \n",
    "    # save the data for the ranges used to the main sim file\n",
    "    utils.logging.info(\"lr_rng = \"+str(lr_rng)+\" hidden layers rng = \"+str(num_hid_layers_rng)+\" hidden units rng = \"+str(size_hid_layers_rng)+\" num sims = %d\", num_sims)\n",
    "    log_name = \"lr_rng = \"+str(lr_rng)+\" hidden layers rng = \"+str(num_hid_layers_rng)+\" hidden units rng = \"+str(size_hid_layers_rng)+\" num sims = \"+ str(num_sims)\n",
    "    fileStr = os.path.join(cwd+\"/logOut/\"+log_dir,log_name+'.log')\n",
    "    print(fileStr)\n",
    "    file = open(fileStr,'w') \n",
    "    file.write('START OF NEW HYPERPARAM SWEEP\\n') \n",
    "    file.close() \n",
    "\n",
    "    \n",
    "    results = np.array([0.0,0.0,0.0,0.0,0.0,0.0,0.0,0.0,0.0,0.0])\n",
    "    \n",
    "    if parallel: # Need cores \n",
    "        print(\"parallelizing the training\") # add parallel ability for specified number of cores similar to funct above\n",
    "        results = multi_sim(X_train, Y_train, X_dev, Y_dev, X_test, Y_test, lr_samples, beta, k_p, reg_type,\n",
    "                            num_epochs, hl_samples, hu_samples, minibatch_size, log_dir, True, False, 10, \n",
    "                            100, True, cores)\n",
    "        print(results)\n",
    "    else:\n",
    "        for i in range(len(lr_samples)):\n",
    "            results2 = model(X_train, Y_train, X_dev, Y_dev, lr_samples[i], beta[i], k_p[i], reg_type,\n",
    "                             num_epochs, hl_samples[i], hu_samples[i], minibatch_size, \n",
    "                             fileStr, print_loss=False, plotting = False, print_interval=10, \n",
    "                             plot_interval=100, parallel=False, queue=0) # call model funct            temp_results = np.array([lr_samples[i], hl_samples[i], hu_samples[i], beta[i], k_p[i], num_epochs, train_err, dev_err, test_err, min_epoch, min_dev])\n",
    "            train_err, Y_train, train_pred, Y_dev, dev_pred, dev_err, min_dev, min_epoch = results2\n",
    "            temp_results = np.array([lr_samples[i], hl_samples[i], hu_samples[i], beta[i], k_p[i], num_epochs, train_err[-1], dev_err[-1], min_epoch, min_dev])\n",
    "            #utils.set_logger(os.path.join(cwd+\"/\"+log_dir,log_dir+'.log')) # reset logger to main log file\n",
    "            #utils.logging.info(\"START OF NEW MODEL\")\n",
    "            #utils.logging.info(\"learning rate = %f, hidden layers = %d, hidden units = %d, beta = %f, keep_prob = %f, epochs = %d, reg_type = %s\", lr_samples[i], hl_samples[i], hu_samples[i], beta[i], k_p[i], num_epochs, reg_type) # add other hyperparams\n",
    "            #utils.logging.info(\"Train Err = %f, Dev Err = %f, Min Dev Err = %f, Min Epoch = %d\", train_err[-1], dev_err[-1], min_dev, min_epoch) # add other hyperparams\n",
    "            file = open(fileStr,'a') \n",
    "            file.write('START OF NEW MODEL\\n') \n",
    "            file.write(\"learning rate = %f, hidden layers = %d, hidden units = %d, beta = %f, keep_prob = %f, epochs = %d, reg_type = %s \\n\"% (lr_samples[i], hl_samples[i], hu_samples[i], beta[i], k_p[i], num_epochs, reg_type))\n",
    "            file.write(\"Train Err = %f, Dev Err = %f, Min Dev Err = %f, Min Epoch = %d \\n\"% (train_err[-1], dev_err[-1], min_dev, min_epoch))\n",
    "            file.close() \n",
    "            print(results, temp_results)\n",
    "            results = np.vstack((results,temp_results))# get all results in a list\n",
    "        \n",
    "        # results contain an array of the parameters and then the resulting errors\n",
    "        results = results[1:,:] # get rid of placeholder row\n",
    "        results= results[results[:,-1].argsort()] # sort by the lowest dev error\n",
    "        file = open(fileStr,'a') \n",
    "        file.write('RESULTS\\n') \n",
    "        file.write(str(results))\n",
    "        file.close() \n",
    "        #utils.logging.info(\"RESULTS\")\n",
    "        #utils.logging.info(str(results))\n",
    "    return results"
   ]
  },
  {
   "cell_type": "code",
   "execution_count": null,
   "metadata": {
    "collapsed": false
   },
   "outputs": [],
   "source": [
    "log_dir = \"\"\n",
    "y_ind = 0 # which of the metabolic vectors to predict\n",
    "learning_rate = 0.008#0.0005\n",
    "num_epochs = 10 # total number of epochs to iterate through\n",
    "print_interval = 10 # number of prints\n",
    "plot_interval = 10 # data points in the plots\n",
    "minibatch_size = 10 # NOT IMPLEMENTED YET\n",
    "num_hid_layers = 3\n",
    "size_hid_layers = 10\n",
    "printing = True # True prints the losses and train/test errors as the network is trained\n",
    "plotting = True\n",
    "num_sims = 10 # number of simulations run for the hyperparamSearch\n",
    "\n",
    "# Here we are assuming we're not normalizing the Y data\n",
    "Y_train = y_train[:,y_ind].T\n",
    "Y_dev = y_dev[:,y_ind].T\n",
    "\n",
    "#train_err, dev_err, test_err = model(X_train, Y_train, X_dev, Y_dev, X_test, Y_test, learning_rate, \n",
    "    #num_epochs, num_hid_layers, size_hid_layers, minibatch_size, log_dir, printing, plotting, print_interval, plot_interval)\n",
    "\n",
    "# define the ranges for the hyperparam search\n",
    "lr_rng = [-4.,-2.] # range of lr will be done with these values use as 10^r for log scale\n",
    "num_hid_layers_rng = [3.0,7.0] # these will be rounded down to nearest Int so add 1 more to value desired for upper bound\n",
    "size_hid_layers_rng = [1.0, 4.0] # These values are multiplied by the number of input features\n",
    "beta_rng = [0.0, 0.03] # regularization coefficient range\n",
    "k_p_rng = [0.8, 1.0] # dropout \"keep probability\" range\n",
    "reg_type = \"L2\" # set to type of desired regularization \"L2\", \"none\" (I don't think L1 is necessary since we don't want feature selection)\n",
    "parallel = False\n",
    "cores = 2 # number of cores to run parallel trials\n",
    "if parallel:\n",
    "    num_sims = cores # make this match for now to test it\n",
    "# run a hyperparamSearch\n",
    "results = hyperparamSearch(X_train, Y_train, X_dev, Y_dev, lr_rng, num_hid_layers_rng, beta_rng, k_p_rng, reg_type,\n",
    "                 size_hid_layers_rng, num_sims, num_epochs, minibatch_size, log_dir, parallel, cores)"
   ]
  },
  {
   "cell_type": "code",
   "execution_count": null,
   "metadata": {
    "collapsed": true
   },
   "outputs": [],
   "source": []
  }
 ],
 "metadata": {
  "anaconda-cloud": {},
  "kernelspec": {
   "display_name": "Python [default]",
   "language": "python",
   "name": "python2"
  },
  "language_info": {
   "codemirror_mode": {
    "name": "ipython",
    "version": 2
   },
   "file_extension": ".py",
   "mimetype": "text/x-python",
   "name": "python",
   "nbconvert_exporter": "python",
   "pygments_lexer": "ipython2",
   "version": "2.7.12"
  }
 },
 "nbformat": 4,
 "nbformat_minor": 2
}
