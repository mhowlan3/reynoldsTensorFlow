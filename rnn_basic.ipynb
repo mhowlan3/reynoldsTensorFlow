{
 "cells": [
  {
   "cell_type": "code",
   "execution_count": 1,
   "metadata": {},
   "outputs": [],
   "source": [
    "## Load modules\n",
    "import tensorflow as tf\n",
    "from tensorflow.python.framework import ops\n",
    "import numpy as np\n",
    "from numpy import genfromtxt\n",
    "import matplotlib.pyplot as plt\n",
    "import os\n",
    "cwd = os.getcwd() # current working directory"
   ]
  },
  {
   "cell_type": "code",
   "execution_count": 2,
   "metadata": {},
   "outputs": [],
   "source": [
    "import sys\n",
    "sys.path.append(os.path.abspath(cwd))"
   ]
  },
  {
   "cell_type": "code",
   "execution_count": 3,
   "metadata": {},
   "outputs": [],
   "source": [
    "## Load data\n",
    "#data_dir = \"cycle_10bins_conditions_none\"#\"2sec_data_avg\" # name of the data folder\n",
    "\n",
    "# Loading the train, dev, test data from specified folder\n",
    "#os.chdir(cwd+\"/\"+data_dir+\"/train\")\n",
    "#x_train = genfromtxt(\"x_train.csv\", delimiter=',')\n",
    "#y_train = genfromtxt(\"y_train.csv\", delimiter=',')"
   ]
  },
  {
   "cell_type": "code",
   "execution_count": 3,
   "metadata": {},
   "outputs": [],
   "source": [
    "# data (num_samples, features)\n",
    "x_all = genfromtxt(\"Firewheel_FWL1_mast_file_tsec_72-months.csv\", delimiter=',')"
   ]
  },
  {
   "cell_type": "code",
   "execution_count": 4,
   "metadata": {},
   "outputs": [
    {
     "name": "stdout",
     "output_type": "stream",
     "text": [
      "(315511, 31)\n"
     ]
    }
   ],
   "source": [
    "print(x_all.shape)\n",
    "x_train = x_all[10:110,10:20] # (100,10)\n",
    "data_size, features = x_train.shape"
   ]
  },
  {
   "cell_type": "code",
   "execution_count": 11,
   "metadata": {},
   "outputs": [
    {
     "name": "stdout",
     "output_type": "stream",
     "text": [
      "(100,)\n"
     ]
    }
   ],
   "source": [
    "def normalize_data(data):\n",
    "    mu = np.mean(data,axis=0) # compute the mean along axis = 0 (num_samples for raw data)\n",
    "    cov = np.std(data,axis=0) # using std instead of variance seems to be best\n",
    "    return mu, cov # returning the normalizations for the data\n",
    "\n",
    "x_mu, x_cov = normalize_data(x_train) # x_train is (features x num_samples)\n",
    "#y_mu, y_cov = normalize_data(y_train)\n",
    "\n",
    "X_train = ((x_train - x_mu)/x_cov).T # still in (features, data_samples)\n",
    "Y_train = 0.5*X_train[1,:].T\n",
    "print(Y_train.shape)\n",
    "#print(np.mean(X_train[:,1]))\n",
    "#X_dev = ((x_dev - x_mu)/x_cov).T # Use same distrib for others --> don't use \"future\" data\n",
    "#X_test = ((x_test - x_mu)/x_cov).T"
   ]
  },
  {
   "cell_type": "code",
   "execution_count": 6,
   "metadata": {},
   "outputs": [],
   "source": [
    "def initialize_parameters(num_hid_layers, size_hid_layers, n_x, output_size):\n",
    "    parameters = {}\n",
    "    total_layers = num_hid_layers+1\n",
    "    \n",
    "    for l in range(1,total_layers+1):\n",
    "        if l == 1:\n",
    "            a = size_hid_layers\n",
    "            b = n_x\n",
    "        elif l == total_layers:\n",
    "            a = output_size\n",
    "            b = size_hid_layers\n",
    "        else:\n",
    "            a = size_hid_layers\n",
    "            b = size_hid_layers\n",
    "            \n",
    "        parameters['w' + str(l)] = tf.get_variable('w'+str(l), [a, b], initializer = tf.contrib.layers.xavier_initializer(seed = 1))\n",
    "        parameters['b' + str(l)] = tf.get_variable('b'+str(l), [a,1], initializer = tf.zeros_initializer())    \n",
    "    return parameters"
   ]
  },
  {
   "cell_type": "code",
   "execution_count": 7,
   "metadata": {},
   "outputs": [],
   "source": [
    "def forward_prop(X,parameters):\n",
    "    total_layers = len(parameters)//2\n",
    "    layer_outputs = {}\n",
    "    layer_outputs['A0'] = X\n",
    "    \n",
    "    for l in range(1,total_layers+1):\n",
    "        layer_outputs['Z' + str(l)] = tf.matmul(parameters['w' + str(l)],layer_outputs['A' + str(l-1)])+parameters['b' + str(l)]\n",
    "        layer_outputs['A' + str(l)] = tf.nn.relu(layer_outputs['Z' + str(l)])\n",
    "        #layer_outputs['A' + str(l)] = tf.nn.dropout(layer_outputs['A' + str(l)],keep_prob)\n",
    "    \n",
    "    return layer_outputs['Z' + str(total_layers)]"
   ]
  },
  {
   "cell_type": "code",
   "execution_count": 15,
   "metadata": {},
   "outputs": [],
   "source": [
    "def model(X_train, Y_train, learning_rate, num_epochs, num_hid_layers, size_hid_layers, minibatch_size, print_interval=10):\n",
    "\n",
    "    ops.reset_default_graph()                         # to be able to rerun the model without overwriting tf variables\n",
    "    tf.set_random_seed(1)                             # to keep consistent results\n",
    "    (n_x, m) = X_train.shape                          # (n_x: input size, m : number of examples in the train set)\n",
    "    n_y = Y_train.shape[0]                            # n_y : output size\n",
    "    losses = []                                        # To keep track of the cost\n",
    "    \n",
    "    O = 1 # output size?\n",
    "    \n",
    "    X = tf.placeholder(tf.float32,[n_x,None])\n",
    "    Y = tf.placeholder(tf.float32,[None])\n",
    "    \n",
    "    parameters = initialize_parameters(num_hid_layers, size_hid_layers, n_x, O)\n",
    "    out = forward_prop(X, parameters)\n",
    "    \n",
    "    loss = tf.reduce_mean(tf.squared_difference(out, Y)) # L2 loss --> not good for our problem\n",
    "    #loss = tf.reduce_mean(tf.losses.absolute_difference(Y,tf.squeeze(out))) # L1 loss\n",
    "    \n",
    "    optimizer = tf.train.AdamOptimizer(learning_rate).minimize(loss) # Optimizer, change the learning rate here\n",
    "\n",
    "    init = tf.global_variables_initializer() # When init is run later (session.run(init)),\n",
    "    with tf.Session() as sess: # starting tf session --> all computation on tf graph in this with struct\n",
    "        sess.run(init)\n",
    "        for epoch in range(num_epochs+1):\n",
    "            _, loss_val = sess.run([optimizer, loss], feed_dict={X: X_train, Y: Y_train})\n",
    "            losses.append(loss_val)\n",
    "            if epoch % (num_epochs/print_interval) == 0:\n",
    "                print(\"Loss: \",loss_val)\n",
    "            "
   ]
  },
  {
   "cell_type": "code",
   "execution_count": 16,
   "metadata": {
    "scrolled": true
   },
   "outputs": [
    {
     "name": "stdout",
     "output_type": "stream",
     "text": [
      "Loss:  0.19563809\n",
      "Loss:  2.5506662e-05\n",
      "Loss:  5.58974e-06\n",
      "Loss:  2.68604e-06\n",
      "Loss:  5.784558e-05\n",
      "Loss:  1.4481365e-06\n",
      "Loss:  9.101998e-07\n",
      "Loss:  6.8546376e-07\n",
      "Loss:  6.2865684e-06\n",
      "Loss:  5.303694e-07\n",
      "Loss:  3.9135944e-07\n"
     ]
    }
   ],
   "source": [
    "learning_rate = 0.008#0.0005\n",
    "num_epochs = 1000 # total number of epochs to iterate through\n",
    "print_interval = 10 # number of prints per total run\n",
    "minibatch_size = 10\n",
    "num_hid_layers = 3\n",
    "size_hid_layers = 128\n",
    "\n",
    "model(X_train, Y_train, learning_rate, num_epochs, num_hid_layers, size_hid_layers, minibatch_size, print_interval)"
   ]
  }
 ],
 "metadata": {
  "anaconda-cloud": {},
  "kernelspec": {
   "display_name": "Python 3",
   "language": "python",
   "name": "python3"
  },
  "language_info": {
   "codemirror_mode": {
    "name": "ipython",
    "version": 3
   },
   "file_extension": ".py",
   "mimetype": "text/x-python",
   "name": "python",
   "nbconvert_exporter": "python",
   "pygments_lexer": "ipython3",
   "version": "3.6.4"
  }
 },
 "nbformat": 4,
 "nbformat_minor": 2
}
