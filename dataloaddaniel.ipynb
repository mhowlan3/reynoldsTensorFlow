{
 "cells": [
  {
   "cell_type": "code",
   "execution_count": 1,
   "metadata": {
    "collapsed": true
   },
   "outputs": [],
   "source": [
    "## Load modules\n",
    "\n",
    "import numpy as np\n",
    "from numpy import genfromtxt\n",
    "import matplotlib.pyplot as plt\n",
    "%matplotlib inline\n",
    "import os\n",
    "cwd = os.getcwd() # current working directory"
   ]
  },
  {
   "cell_type": "code",
   "execution_count": 2,
   "metadata": {
    "collapsed": true
   },
   "outputs": [],
   "source": [
    "# data (num_samples, features)\n",
    "basedir = './'\n",
    "windFile = 'Firewheel_FWL'+str(1)+'_mast_file_tsec_72-months.csv'\n",
    "def importWindFile(basedir, windFile):\n",
    "    data = np.loadtxt(basedir+windFile, delimiter=',', skiprows=7)\n",
    "    ws = np.zeros((data.shape[0],5))\n",
    "    time = np.linspace(0., 10.*data.shape[0],data.shape[0])\n",
    "    nt = ws.shape[0]\n",
    "    hour = data[:,3]\n",
    "    month = data[:,1]\n",
    "    for i  in range(0,5):\n",
    "        ind = 5*(i+1)\n",
    "        ws[:,i] = data[:,ind]\n",
    "    return ws, hour, time, nt, month\n",
    "\n",
    "\n",
    "ws, hour, time, nt, month = importWindFile(basedir, windFile)\n"
   ]
  },
  {
   "cell_type": "code",
   "execution_count": 3,
   "metadata": {
    "collapsed": false
   },
   "outputs": [
    {
     "name": "stdout",
     "output_type": "stream",
     "text": [
      "(309190, 17)\n",
      "(309190,)\n",
      "(309190,)\n",
      "(309190,)\n",
      "a\n"
     ]
    }
   ],
   "source": [
    "# Full dataset\n",
    "Nt = ws.shape[0]\n",
    "# Physical parameters\n",
    "horizon = 18\n",
    "dataHeight = 0 # index of the height we want\n",
    "# Initialize\n",
    "xFull = np.zeros((horizon-1,Nt))\n",
    "yFull = np.zeros((Nt,1))\n",
    "for i in range(horizon,Nt):\n",
    "    xFull[:,i-horizon] = ws[i-horizon:i-1,dataHeight]\n",
    "    yFull[i-horizon] = ws[i,dataHeight]\n",
    "    \n",
    "# Select the dev set\n",
    "randomSeed_dev = int(np.round(np.random.rand(1)*Nt))\n",
    "n_dev = int(np.round(Nt*0.01)) # use 1% of the data for dev\n",
    "while randomSeed_dev > (Nt-n_dev): # make sure the random seed is not too close to the end of the dataset\n",
    "    randomSeed_dev = int(np.round(np.random.rand(1)*Nt))\n",
    "\n",
    "x_dev = xFull[:,randomSeed_dev:randomSeed_dev+n_dev]\n",
    "y_dev = yFull[randomSeed_dev:randomSeed_dev+n_dev]\n",
    "x_dev = x_dev.T\n",
    "\n",
    "# Select the test set and make sure that it does not overlap with dev set\n",
    "randomSeed_test = int(np.round(np.random.rand(1)*Nt))\n",
    "n_test = int(np.round(Nt*0.01)) # use 1% of the data for dev\n",
    "while randomSeed_test > (Nt-n_test) | np.abs( randomSeed_dev - randomSeed_test ) < n_test: #make sure that it does not overlap with dev set\n",
    "    randomSeed_test = int(np.round(np.random.rand(1)*Nt))\n",
    "    \n",
    "x_test = xFull[:,randomSeed_test:randomSeed_test+n_dev]\n",
    "y_test = yFull[randomSeed_test:randomSeed_test+n_dev]\n",
    "x_test = x_dev.T\n",
    "\n",
    "\n",
    "# Set the test data as the rest of it and concatenate it together\n",
    "if randomSeed_dev > randomSeed_test:\n",
    "    x_train = np.concatenate((xFull[:,0:randomSeed_test-1],xFull[:,randomSeed_test+n_test+1:randomSeed_dev -1]),axis=1)\n",
    "    x_train = np.concatenate((x_train,xFull[:,randomSeed_dev+n_dev+1:Nt]),axis=1)\n",
    "    y_train = np.concatenate((yFull[0:randomSeed_test-1],yFull[randomSeed_test+n_test+1:randomSeed_dev-1]),axis=0)\n",
    "    y_train = np.concatenate((y_train,yFull[randomSeed_dev+n_dev+1:Nt]),axis=0)\n",
    "    time_train = np.concatenate((time[0:randomSeed_test-1],time[randomSeed_test+n_test+1:randomSeed_dev-1]),axis=0)\n",
    "    time_train = np.concatenate((time_train,time[randomSeed_dev+n_dev+1:Nt]),axis=0)\n",
    "    hour_train = np.concatenate((hour[0:randomSeed_test-1],hour[randomSeed_test+n_test+1:randomSeed_dev-1]),axis=0)\n",
    "    hour_train = np.concatenate((hour_train,hour[randomSeed_dev+n_dev+1:Nt]),axis=0)\n",
    "    month_train = np.concatenate((month[0:randomSeed_test-1],month[randomSeed_test+n_test+1:randomSeed_dev-1]),axis=0)\n",
    "    month_train = np.concatenate((month_train,month[randomSeed_dev+n_dev+1:Nt]),axis=0)\n",
    "else:\n",
    "    x_train = np.concatenate((xFull[:,0:randomSeed_dev-1],xFull[:,randomSeed_dev+n_dev+1:randomSeed_test -1]),axis=1)\n",
    "    x_train = np.concatenate((x_train,xFull[:,randomSeed_test+n_test+1:Nt]),axis=1)\n",
    "    y_train = np.concatenate((yFull[0:randomSeed_dev-1],yFull[randomSeed_dev+n_dev+1:randomSeed_test-1]),axis=0)\n",
    "    y_train = np.concatenate((y_train,yFull[randomSeed_test+n_test+1:Nt]),axis=0)\n",
    "    time_train = np.concatenate((time[0:randomSeed_dev-1],time[randomSeed_dev+n_dev+1:randomSeed_test-1]),axis=0)\n",
    "    time_train = np.concatenate((time_train,time[randomSeed_test+n_test+1:Nt]),axis=0)\n",
    "    hour_train = np.concatenate((hour[0:randomSeed_dev-1],hour[randomSeed_dev+n_dev+1:randomSeed_test-1]),axis=0)\n",
    "    hour_train = np.concatenate((hour_train,hour[randomSeed_test+n_test+1:Nt]),axis=0)\n",
    "    month_train = np.concatenate((month[0:randomSeed_dev-1],month[randomSeed_dev+n_dev+1:randomSeed_test-1]),axis=0)\n",
    "    month_train = np.concatenate((month_train,month[randomSeed_test+n_test+1:Nt]),axis=0)\n",
    "    \n",
    "x_train = x_train.T\n",
    "print(x_train.shape)\n",
    "print(time_train.shape)\n",
    "print(hour_train.shape)\n",
    "print(month_train.shape)"
   ]
  },
  {
   "cell_type": "code",
   "execution_count": 4,
   "metadata": {
    "collapsed": false
   },
   "outputs": [],
   "source": [
    "# Create a function that will sort through the code and pick out the x and y sets that correspond\n",
    "# with the time window we want. Pass in the training data, the start and end you want, as well as\n",
    "# what timescale you want\n",
    "\n",
    "def getdata_range(x_train,y_train, hour_train, time_train, month_train,start,end,timescale):\n",
    "    # start - the starting value of the data cut\n",
    "    # end - the ending value of the data cut\n",
    "    # the timescale we want to cut the data in reference to\n",
    "    \n",
    "    \n",
    "    # check to see what timescale we want to cut the data with\n",
    "    if timescale == 'hour':\n",
    "        timevector = hour_train\n",
    "    if timescale == 'time':\n",
    "        timevector = time_train\n",
    "    if timescale == 'month':\n",
    "        timevector = month_train\n",
    "    \n",
    "    #initialize\n",
    "    x_train_cut =np.zeros((1,x_train.shape[1]))\n",
    "    y_train_cut = np.zeros(x_train.shape[0])\n",
    "    hour_train_cut = np.zeros(x_train.shape[0])\n",
    "    month_train_cut = np.zeros(x_train.shape[0])\n",
    "    time_train_cut = np.zeros(x_train.shape[0])\n",
    "    counter = 0;\n",
    "\n",
    "    for ii in range(0,x_train.shape[0]):\n",
    "\n",
    "\n",
    "        \n",
    "        #check to see if we are in the range, this is based on the y values time stamp\n",
    "        if (int(timevector[ii]) >= start) & (int(timevector[ii])<= end):\n",
    "            \n",
    "            x_train_cut = np.concatenate((x_train_cut,  np.matrix(x_train[ii,:])),axis=0)\n",
    "            y_train_cut[counter] = y_train[ii]\n",
    "            hour_train_cut[counter] = hour_train[ii]\n",
    "            time_train_cut[counter] = time_train[ii]\n",
    "            month_train_cut[counter] = month_train[ii]\n",
    "            counter = counter + 1;\n",
    "    \n",
    "    x_train_cut = x_train_cut[1:-1,:]\n",
    "    y_train_cut = y_train_cut[0:counter]\n",
    "    hour_train_cut = hour_train_cut[0:counter]\n",
    "    time_train_cut = time_train_cut[0:counter]\n",
    "    month_train_cut = month_train_cut[0:counter]\n",
    " \n",
    "\n",
    "    return x_train_cut , y_train_cut , hour_train_cut , time_train_cut , month_train_cut \n",
    "\n"
   ]
  },
  {
   "cell_type": "code",
   "execution_count": 19,
   "metadata": {
    "collapsed": false
   },
   "outputs": [],
   "source": [
    "# example of how to cut the data\n",
    "\n",
    "# choose only the morning\n",
    "start_time = 0;\n",
    "end_time = 6;\n",
    "timescale = 'hour'\n",
    "\n",
    "x_train_cut , y_train_cut , hour_train_cut , time_train_cut , month_train_cut  = getdata_range(x_train,y_train, hour_train, time_train, month_train,start_time,end_time,timescale)\n",
    "\n",
    "\n",
    "#choose only the morning during january\n",
    "start_month = 1;\n",
    "end_month = 1;\n",
    "timescale = 'month'\n",
    "\n",
    "x_train_janmorn , y_train_janmorn , hour_train_janmorn , time_train_janmorn , month_train_janmorn  = getdata_range(x_train_cut,y_train_cut,hour_train_cut,time_train_cut,month_train_cut,start_month,end_month,timescale)\n"
   ]
  },
  {
   "cell_type": "code",
   "execution_count": 24,
   "metadata": {
    "collapsed": false
   },
   "outputs": [
    {
     "data": {
      "text/plain": [
       "1.0"
      ]
     },
     "execution_count": 24,
     "metadata": {},
     "output_type": "execute_result"
    }
   ],
   "source": [
    "\n",
    "np.max(month_train_janmorn)"
   ]
  },
  {
   "cell_type": "code",
   "execution_count": 27,
   "metadata": {
    "collapsed": false
   },
   "outputs": [
    {
     "data": {
      "text/plain": [
       "6.0"
      ]
     },
     "execution_count": 27,
     "metadata": {},
     "output_type": "execute_result"
    }
   ],
   "source": [
    "np.max(hour_train_janmorn)"
   ]
  },
  {
   "cell_type": "code",
   "execution_count": 25,
   "metadata": {
    "collapsed": false
   },
   "outputs": [
    {
     "name": "stdout",
     "output_type": "stream",
     "text": [
      "(7811, 17)\n",
      "(7812,)\n",
      "(7812,)\n"
     ]
    }
   ],
   "source": [
    "print(np.shape(x_train_janmorn))\n",
    "print(np.shape(y_train_janmorn))\n",
    "print(np.shape(month_train_janmorn))"
   ]
  },
  {
   "cell_type": "code",
   "execution_count": null,
   "metadata": {
    "collapsed": true
   },
   "outputs": [],
   "source": []
  }
 ],
 "metadata": {
  "anaconda-cloud": {},
  "kernelspec": {
   "display_name": "Python 2",
   "language": "python",
   "name": "python2"
  },
  "language_info": {
   "codemirror_mode": {
    "name": "ipython",
    "version": 2
   },
   "file_extension": ".py",
   "mimetype": "text/x-python",
   "name": "python",
   "nbconvert_exporter": "python",
   "pygments_lexer": "ipython2",
   "version": "2.7.10"
  }
 },
 "nbformat": 4,
 "nbformat_minor": 2
}
