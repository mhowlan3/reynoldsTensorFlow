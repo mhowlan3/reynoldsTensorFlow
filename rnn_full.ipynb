{
 "cells": [
  {
   "cell_type": "code",
   "execution_count": 2,
   "metadata": {},
   "outputs": [],
   "source": [
    "## Load modules\n",
    "import tensorflow as tf\n",
    "from tensorflow.python.framework import ops\n",
    "import numpy as np\n",
    "from numpy import genfromtxt\n",
    "import matplotlib.pyplot as plt\n",
    "import os\n",
    "cwd = os.getcwd() # current working directory"
   ]
  },
  {
   "cell_type": "code",
   "execution_count": 3,
   "metadata": {},
   "outputs": [],
   "source": [
    "import sys\n",
    "sys.path.append(os.path.abspath(cwd))"
   ]
  },
  {
   "cell_type": "code",
   "execution_count": 92,
   "metadata": {},
   "outputs": [],
   "source": [
    "# data (num_samples, features)\n",
    "basedir = cwd\n",
    "windFile = '/Firewheel_FWL'+str(1)+'_mast_file_tsec_72-months.csv'\n",
    "def importWindFile(basedir, windFile):\n",
    "    data = np.loadtxt(basedir+windFile, delimiter=',', skiprows=7)\n",
    "    ws = np.zeros((data.shape[0],5))\n",
    "    time = np.linspace(0., 10.*data.shape[0],data.shape[0])\n",
    "    nt = ws.shape[0]\n",
    "    hour = data[:,3]\n",
    "    month = data[:,1]\n",
    "    for i  in range(0,5):\n",
    "        ind = 5*(i+1)\n",
    "        ws[:,i] = data[:,ind]\n",
    "    return ws, hour, time, nt, month\n",
    "\n",
    "\n",
    "ws, hour, time, nt, month = importWindFile(basedir, windFile)"
   ]
  },
  {
   "cell_type": "code",
   "execution_count": 109,
   "metadata": {},
   "outputs": [],
   "source": [
    "#print(ws.shape,hour[:,np.newaxis].shape)\n",
    "#data = np.stack((ws,hour[:,np.newaxis]),axis=0)\n",
    "data = ws"
   ]
  },
  {
   "cell_type": "code",
   "execution_count": 5,
   "metadata": {},
   "outputs": [],
   "source": [
    "# data (num_samples, features)\n",
    "#data = genfromtxt(\"Firewheel_FWL1_mast_file_tsec_72-months.csv\", delimiter=',')\n",
    "data_dir = str(cwd)#+\"/data\") # full path to data folder with data files\n",
    "os.chdir(data_dir) # change directory to data\n",
    "files = os.listdir(data_dir) # get filenames from data_dir\n",
    "files.sort() # sort them so always in same order\n",
    "num_files = len(files)\n",
    "for i,file in enumerate(reversed(files)): # delete not .csv files\n",
    "    if file[-3:] != \"csv\":\n",
    "        files = np.delete(files,num_files-i-1)\n",
    "        \n",
    "print(files) # check you have the files you want"
   ]
  },
  {
   "cell_type": "code",
   "execution_count": 134,
   "metadata": {},
   "outputs": [],
   "source": [
    "batch_size = 512\n",
    "sequence_length = 20\n",
    "y_ind = 3 # this is the index you want to predict\n",
    "chunk_num = 100 # number of chunks to split the data into to divide between train/dev/test\n",
    "chunk_idx = np.zeros(chunk_num, dtype=int)\n",
    "\n",
    "raw_data = data\n",
    "y_raw = data[:,y_ind] # copy y data before norm\n",
    "data_length, features = data.shape\n",
    "chunk_length = int(data_length/chunk_num)\n",
    "\n",
    "for i in range(chunk_num):\n",
    "    chunk_idx[i] = i*chunk_length\n",
    "    \n",
    "#for file in files:\n",
    "#    raw_data = genfromtxt(file, delimiter=',') # shape (data length, features)\n",
    "\n",
    "# Break into train, dev, test files\n",
    "train_size = 0.6\n",
    "dev_size = 0.2\n",
    "test_size = 1 - train_size - dev_size\n",
    "\n",
    "split_1 = int(train_size*chunk_num)\n",
    "split_2 = int((train_size+dev_size)*chunk_num)\n",
    "\n",
    "np.random.seed(13)\n",
    "np.random.shuffle(chunk_idx)\n",
    "\n",
    "train_chunk = chunk_idx[:split_1]\n",
    "dev_chunk = chunk_idx[split_1:split_2]\n",
    "test_chunk = chunk_idx[split_2:]\n",
    "\n",
    "def combine_idx_data(data, labels, idx_list):\n",
    "    _,features = data.shape\n",
    "    data_out = np.zeros((len(idx_list)*chunk_length,features))\n",
    "    labels_out = np.zeros(len(idx_list)*chunk_length)\n",
    "    for i in range(len(idx_list)):\n",
    "        data_out[i*chunk_length:(i+1)*chunk_length,:] = data[idx_list[i]:idx_list[i]+chunk_length,:]\n",
    "        labels_out[i*chunk_length:(i+1)*chunk_length] = labels[idx_list[i]:idx_list[i]+chunk_length]\n",
    "    return data_out, labels_out\n",
    "\n",
    "x_train, y_train = combine_idx_data(raw_data, y_raw, train_chunk)\n",
    "x_dev, y_dev = combine_idx_data(raw_data, y_raw, dev_chunk)\n",
    "x_test, y_test = combine_idx_data(raw_data, y_raw, test_chunk)"
   ]
  },
  {
   "cell_type": "code",
   "execution_count": 139,
   "metadata": {},
   "outputs": [
    {
     "name": "stdout",
     "output_type": "stream",
     "text": [
      "[8.74315009 8.9523552  9.14512261 9.32421337 9.49172965]\n"
     ]
    }
   ],
   "source": [
    "def normalize_data(data):\n",
    "    mu = np.mean(data,axis=0) # compute the mean along axis = 0 (num_samples for raw data)\n",
    "    cov = np.std(data,axis=0) # using std instead of variance seems to be best\n",
    "    return mu, cov # returning the normalizations for the data\n",
    "\n",
    "mu_train, mu_cov = normalize_data(x_train)\n",
    "print(mu_train)"
   ]
  },
  {
   "cell_type": "code",
   "execution_count": 141,
   "metadata": {},
   "outputs": [],
   "source": [
    "X_train = (x_train-mu_train)/mu_cov\n",
    "X_dev = (x_dev-mu_train)/mu_cov\n",
    "X_test = (x_test-mu_train)/mu_cov\n",
    "#print(np.mean(X_train[:,0],axis=0)) # confirm new mean is 0"
   ]
  },
  {
   "cell_type": "code",
   "execution_count": 148,
   "metadata": {},
   "outputs": [],
   "source": [
    "# have (# data examples, inpute_size)\n",
    "# want (# data examples - num_steps - 1, num_steps, input_size)\n",
    "# given the index for prediction data (y_ind), creates prediction vector Y\n",
    "#def reshape_sequences(data, sequence_length, y_ind):\n",
    "#    data_size, features = data.shape\n",
    "#    out_data = np.zeros((data_size-sequence_length-1, sequence_length, features))\n",
    "#    out_y = np.zeros(data_size-sequence_length-1)\n",
    "#    for i in range(out_data.shape[0]):\n",
    "#        out_data[i,:,:] = data[i:sequence_length+i,:]\n",
    "#        out_y[i] = data[sequence_length+i+1,y_ind]\n",
    "#    return out_data, out_y\n",
    "def reshape_sequences(data, labels, sequence_length):\n",
    "    data_size, features = data.shape\n",
    "    out_data = np.zeros((data_size-sequence_length-1, sequence_length, features))\n",
    "    out_y = np.zeros(data_size-sequence_length-1)\n",
    "    for i in range(out_data.shape[0]):\n",
    "        out_data[i,:,:] = data[i:sequence_length+i,:]\n",
    "        out_y[i] = labels[sequence_length+i+1]\n",
    "    return out_data, out_y\n",
    "\n",
    "def reshape_chunks(data, labels, chunk_length, sequence_length): # reshape each chunk into seq and stack\n",
    "    reshaped_data = []\n",
    "    reshaped_labels = []\n",
    "    data_length, features = data.shape\n",
    "    num_chunks = int(data_length/chunk_length)\n",
    "    for i in range(num_chunks):\n",
    "        new_data, new_labels = reshape_sequences(data[i*chunk_length:(i+1)*chunk_length,:],labels[i*chunk_length:(i+1)*chunk_length],sequence_length)\n",
    "        if len(reshaped_data) == 0:\n",
    "            reshaped_data = new_data\n",
    "            reshaped_labels = new_labels\n",
    "        else: \n",
    "            reshaped_data = np.vstack((reshaped_data,new_data))\n",
    "            reshaped_labels = np.append(reshaped_labels,new_labels)\n",
    "\n",
    "            \n",
    "    return reshaped_data, reshaped_labels\n",
    "#x_raw, y_raw = reshape_sequences(raw_data, sequence_length, y_ind)\n",
    "# output is (shortened_data_samples, sequence_length, features), y_raw is (shortened_data_samples)\n",
    "\n",
    "cx_train, cy_train = reshape_chunks(X_train, y_train, chunk_length, sequence_length)\n",
    "cx_dev, cy_dev = reshape_chunks(X_dev, y_dev, chunk_length, sequence_length)\n",
    "cx_test, cy_test = reshape_chunks(X_test, y_test, chunk_length, sequence_length)\n",
    "#print(bx_train.shape,X_train.shape, by_train.shape)"
   ]
  },
  {
   "cell_type": "code",
   "execution_count": 112,
   "metadata": {},
   "outputs": [
    {
     "name": "stdout",
     "output_type": "stream",
     "text": [
      "(189294, 20, 31)\n",
      "(63098, 20, 31)\n",
      "(63098, 20, 31)\n"
     ]
    }
   ],
   "source": [
    "#data_length, _, features = batches_x.shape\n",
    "\n",
    "# Break into train, dev, test files\n",
    "#train_size = 0.6\n",
    "#dev_size = 0.2\n",
    "#test_size = 1 - train_size - dev_size\n",
    "\n",
    "#split_1 = int(train_size*data_length)\n",
    "#split_2 = int((train_size+dev_size)*data_length)\n",
    "\n",
    "#np.random.seed(13)\n",
    "#np.random.shuffle(batches_x)\n",
    "#np.random.seed(13)\n",
    "#np.random.shuffle(batches_y)\n",
    "\n",
    "#x_train = batches_x[:split_1,:,:]\n",
    "#y_train = batches_y[:split_1]\n",
    "\n",
    "#x_dev = batches_x[split_1:split_2,:,:]\n",
    "#y_dev = batches_y[split_1:split_2]#\n",
    "#\n",
    "#x_test = batches_x[split_2:,:,:]\n",
    "#y_test = batches_y[split_2:]\n",
    "\n",
    "#print(x_train.shape)\n",
    "#print(x_dev.shape)\n",
    "#print(x_test.shape)"
   ]
  },
  {
   "cell_type": "code",
   "execution_count": 156,
   "metadata": {},
   "outputs": [
    {
     "name": "stdout",
     "output_type": "stream",
     "text": [
      "(189300, 5) (367, 512, 20, 5) (367, 512)\n"
     ]
    }
   ],
   "source": [
    "def batch(data, labels, batch_size):\n",
    "    data_length, sequence_length, features = data.shape\n",
    "    new_data_length = data_length - (data_length % batch_size)\n",
    "    num_batches = int(data_length/batch_size)\n",
    "    data_out = np.reshape(data[:new_data_length,:,:],(num_batches, -1, sequence_length, features))\n",
    "    labels_out = np.reshape(labels[:new_data_length],(num_batches, -1)) # would need to add dim for num_outputs\n",
    "    return data_out, labels_out\n",
    "    \n",
    "bx_train, by_train = batch(cx_train, cy_train, batch_size)\n",
    "bx_dev, by_dev = batch(cx_dev, cy_dev, batch_size)\n",
    "bx_test, by_test = batch(cx_test, cy_test, batch_size)\n",
    "\n",
    "print(x_train.shape, bx_train.shape, by_train.shape)"
   ]
  },
  {
   "cell_type": "code",
   "execution_count": 84,
   "metadata": {
    "scrolled": true
   },
   "outputs": [
    {
     "name": "stdout",
     "output_type": "stream",
     "text": [
      "11830 16 20 31\n",
      "(16, 31)\n",
      "(31,)\n",
      "[-2.70616862e-16  1.38777878e-17 -3.05311332e-16 -1.38777878e-17\n",
      " -6.59194921e-17  1.17961196e-16  2.77555756e-17 -1.80411242e-16\n",
      "  1.66533454e-16 -1.11022302e-16  0.00000000e+00  2.77555756e-17\n",
      "  4.85722573e-17 -2.56739074e-16  1.38777878e-17  1.38777878e-17\n",
      "  2.77555756e-17  1.73472348e-16  9.71445147e-17  1.52655666e-16\n",
      " -2.77555756e-17  2.77555756e-17 -1.24900090e-16 -6.93889390e-17\n",
      "  2.77555756e-17 -4.85722573e-17  2.77555756e-17  2.77555756e-17\n",
      "  2.08166817e-16 -2.77555756e-17             nan]\n",
      "[-4.23272528e-17 -5.68989300e-17 -2.95596880e-16  4.92661467e-17\n",
      " -2.98372438e-17  3.78169718e-17 -5.55111512e-18 -1.01307851e-16\n",
      "  6.21031004e-17 -5.55111512e-18 -1.90819582e-17 -5.55111512e-18\n",
      " -5.82867088e-17 -3.74700271e-17  1.59594560e-17 -3.05311332e-17\n",
      " -5.55111512e-18  3.95516953e-17  5.06539255e-17  5.03069808e-18\n",
      "  7.45931095e-17 -5.55111512e-18 -3.46944695e-17  1.74513182e-16\n",
      " -2.77555756e-17 -4.19803081e-17 -5.55111512e-18  5.27355937e-17\n",
      "  9.47159018e-17 -1.47451495e-17             nan]\n"
     ]
    },
    {
     "ename": "ValueError",
     "evalue": "operands could not be broadcast together with shapes (16,20,31) (16,31) ",
     "output_type": "error",
     "traceback": [
      "\u001b[0;31m---------------------------------------------------------------------------\u001b[0m",
      "\u001b[0;31mValueError\u001b[0m                                Traceback (most recent call last)",
      "\u001b[0;32m<ipython-input-84-ede5bfd9ea32>\u001b[0m in \u001b[0;36m<module>\u001b[0;34m()\u001b[0m\n\u001b[1;32m     27\u001b[0m \u001b[0;34m\u001b[0m\u001b[0m\n\u001b[1;32m     28\u001b[0m \u001b[0;32mfor\u001b[0m \u001b[0mi\u001b[0m \u001b[0;32min\u001b[0m \u001b[0mrange\u001b[0m\u001b[0;34m(\u001b[0m\u001b[0;36m0\u001b[0m\u001b[0;34m,\u001b[0m\u001b[0;36m2\u001b[0m\u001b[0;34m)\u001b[0m\u001b[0;34m:\u001b[0m\u001b[0;31m#range(num_batches):\u001b[0m\u001b[0;34m\u001b[0m\u001b[0m\n\u001b[0;32m---> 29\u001b[0;31m     \u001b[0mnew_bx_train\u001b[0m\u001b[0;34m[\u001b[0m\u001b[0mi\u001b[0m\u001b[0;34m,\u001b[0m\u001b[0;34m:\u001b[0m\u001b[0;34m,\u001b[0m\u001b[0;34m:\u001b[0m\u001b[0;34m,\u001b[0m\u001b[0;34m:\u001b[0m\u001b[0;34m]\u001b[0m\u001b[0;34m,\u001b[0m \u001b[0mbatch_means\u001b[0m\u001b[0;34m[\u001b[0m\u001b[0mi\u001b[0m\u001b[0;34m]\u001b[0m\u001b[0;34m,\u001b[0m \u001b[0mbatch_std\u001b[0m\u001b[0;34m[\u001b[0m\u001b[0mi\u001b[0m\u001b[0;34m]\u001b[0m \u001b[0;34m=\u001b[0m \u001b[0mnormalize_batch\u001b[0m\u001b[0;34m(\u001b[0m\u001b[0mnp\u001b[0m\u001b[0;34m.\u001b[0m\u001b[0msqueeze\u001b[0m\u001b[0;34m(\u001b[0m\u001b[0mbx_train\u001b[0m\u001b[0;34m[\u001b[0m\u001b[0mi\u001b[0m\u001b[0;34m,\u001b[0m\u001b[0;34m:\u001b[0m\u001b[0;34m,\u001b[0m\u001b[0;34m:\u001b[0m\u001b[0;34m,\u001b[0m\u001b[0;34m:\u001b[0m\u001b[0;34m]\u001b[0m\u001b[0;34m)\u001b[0m\u001b[0;34m)\u001b[0m\u001b[0;34m\u001b[0m\u001b[0m\n\u001b[0m",
      "\u001b[0;32m<ipython-input-84-ede5bfd9ea32>\u001b[0m in \u001b[0;36mnormalize_batch\u001b[0;34m(batch)\u001b[0m\n\u001b[1;32m     12\u001b[0m     \u001b[0mprint\u001b[0m\u001b[0;34m(\u001b[0m\u001b[0mmu\u001b[0m\u001b[0;34m)\u001b[0m\u001b[0;34m\u001b[0m\u001b[0m\n\u001b[1;32m     13\u001b[0m     \u001b[0;31m#print(std)\u001b[0m\u001b[0;34m\u001b[0m\u001b[0;34m\u001b[0m\u001b[0m\n\u001b[0;32m---> 14\u001b[0;31m     \u001b[0mnorm_batch\u001b[0m \u001b[0;34m=\u001b[0m \u001b[0;34m(\u001b[0m\u001b[0;34m(\u001b[0m\u001b[0mbatch\u001b[0m\u001b[0;34m-\u001b[0m\u001b[0mmu\u001b[0m\u001b[0;34m)\u001b[0m\u001b[0;34m/\u001b[0m\u001b[0mstd\u001b[0m\u001b[0;34m)\u001b[0m\u001b[0;34m\u001b[0m\u001b[0m\n\u001b[0m\u001b[1;32m     15\u001b[0m     \u001b[0mprint\u001b[0m\u001b[0;34m(\u001b[0m\u001b[0mbatch\u001b[0m\u001b[0;34m.\u001b[0m\u001b[0mshape\u001b[0m\u001b[0;34m)\u001b[0m\u001b[0;34m\u001b[0m\u001b[0m\n\u001b[1;32m     16\u001b[0m     \u001b[0mprint\u001b[0m\u001b[0;34m(\u001b[0m\u001b[0mbatch\u001b[0m\u001b[0;34m[\u001b[0m\u001b[0;36m0\u001b[0m\u001b[0;34m,\u001b[0m\u001b[0;34m:\u001b[0m\u001b[0;34m,\u001b[0m\u001b[0;36m5\u001b[0m\u001b[0;34m]\u001b[0m\u001b[0;34m)\u001b[0m\u001b[0;34m\u001b[0m\u001b[0m\n",
      "\u001b[0;31mValueError\u001b[0m: operands could not be broadcast together with shapes (16,20,31) (16,31) "
     ]
    }
   ],
   "source": [
    "# Normalizing over training batches\n",
    "# have data in (data_length, sequence, features)\n",
    "# want to normalize along the sequence dimension for each data length and feature\n",
    "#def normalize_batch(batch): # batch is size (batch_length, sequence, features)\n",
    "#    mu = np.mean(batch,axis=(0,1)) # take average over batch_length and sequence\n",
    "#    std = np.std(batch,axis=(1)) # using std instead of variance seems to be best\n",
    "#    mu1 = np.mean(batch,axis=1)\n",
    "#    print(mu1.shape)\n",
    "#    mu2 = np.mean(mu1,axis=0)\n",
    "#    print(mu2.shape)\n",
    "#    print(mu2)\n",
    "#    print(mu)\n",
    "#    #print(std)\n",
    "#    norm_batch = ((batch-mu)/std)\n",
    "#    print(batch.shape)\n",
    "#    print(batch[0,:,5])\n",
    "#    print(norm_batch[0,:,5])\n",
    "#\n",
    "#    return norm_batch, mu, std # returning the normalizations for the data\n",
    "\n",
    "# normalize train data and store the mean/variance of batches\n",
    "#num_batches, batch_size, sequence_length, features = bx_train.shape\n",
    "#batch_means = np.zeros((num_batches, features)) # want to store mean, cov in here\n",
    "#batch_std = np.zeros((num_batches, features))\n",
    "#print(num_batches, batch_size, sequence_length, features)\n",
    "#new_bx_train = np.zeros(bx_train.shape)\n",
    "#\n",
    "#for i in range(0,2):#range(num_batches):\n",
    "#    new_bx_train[i,:,:,:], batch_means[i], batch_std[i] = normalize_batch(np.squeeze(bx_train[i,:,:,:]))"
   ]
  },
  {
   "cell_type": "code",
   "execution_count": 57,
   "metadata": {},
   "outputs": [
    {
     "name": "stdout",
     "output_type": "stream",
     "text": [
      "(31,) (31,)\n",
      "(3943, 16, 20, 31)\n"
     ]
    }
   ],
   "source": [
    "# Find average norm from training data and use on dev/test\n",
    "#def norm_other_batch(batch,mu,std):\n",
    "#    norm_batch = ((batch-mu)/std)\n",
    "#    return norm_batch\n",
    "\n",
    "#train_mu = np.mean(batch_means,axis=0)\n",
    "#train_std = np.mean(batch_std,axis=0)\n",
    "#print(train_mu.shape,train_std.shape)\n",
    "\n",
    "#dev_batches,_,_,_ = bx_dev.shape\n",
    "#test_batches,_,_,_ = bx_test.shape\n",
    "\n",
    "#for i in range(dev_batches):\n",
    "#    bx_dev[i,:,:,:] = norm_other_batch(bx_dev[i,:,:,:], train_mu, train_std)\n",
    "\n",
    "#for i in range(test_batches):\n",
    "#    bx_test[i,:,:,:] = norm_other_batch(bx_test[i,:,:,:], train_mu, train_std)\n",
    "\n",
    "#print(bx_test.shape)"
   ]
  },
  {
   "cell_type": "code",
   "execution_count": null,
   "metadata": {},
   "outputs": [],
   "source": [
    "\n",
    "\n",
    "# reshape to correct size and then break into batches (batch num, batch_size, features) for X and Y (batch num, pred)\n",
    "#num_samples, features = data.shape\n",
    "#num_batches = int(num_samples/batch_size)\n",
    "#batches = # (file_name, batch_start_idx) \n",
    "#data = # (minibatch num, batch_size, features)\n",
    "# Shuffle these big lists of batch data and split to train/dev/test\n",
    "# For each mini batch in train normalize and save mean/variance\n",
    "# Compute avg mean and variance and apply to dev/test data\n",
    "\n",
    "\n",
    "\n",
    "# randomly assign batches to train/dev/test\n",
    "# pull out y values\n",
    "# normalize to training batches\n",
    "# reshape_sequences\n",
    "\n",
    "\n",
    "\n",
    "#print(x_all.shape)\n",
    "\n",
    "#x_train = data[10:1010,10:20] # (1000,10)\n",
    "#data_size, features = x_train.shape\n",
    "\n",
    "# need to get the data from the files, split by sequence length and "
   ]
  },
  {
   "cell_type": "code",
   "execution_count": 12,
   "metadata": {},
   "outputs": [
    {
     "name": "stdout",
     "output_type": "stream",
     "text": [
      "(979,)\n",
      "(979, 20, 10)\n"
     ]
    }
   ],
   "source": [
    "#def normalize_data(data):\n",
    "#    mu = np.mean(data,axis=0) # compute the mean along axis = 0 (num_samples for raw data)\n",
    "#    cov = np.std(data,axis=0) # using std instead of variance seems to be best\n",
    "#    return mu, cov # returning the normalizations for the data\n",
    "\n",
    "#x_mu, x_cov = normalize_data(x_train) # want x_train to be (data_size, input_size)\n",
    "#y_mu, y_cov = normalize_data(y_train)\n",
    "\n",
    "#X_train = ((x_train - x_mu)/x_cov) # still in (data examples, input_size)\n",
    "\n",
    "# have (# data examples, inpute_size)\n",
    "# want (# data examples - num_steps - 1, num_steps, input_size)\n",
    "# given the index for prediction data (y_ind), creates prediction vector Y\n",
    "#def reshape_sequences(data, sequence_length, y_ind):\n",
    " #   data_size, features = data.shape\n",
    "#    out_data = np.zeros((data_size-sequence_length-1, sequence_length, features))\n",
    "#    out_y = np.zeros(data_size-sequence_length-1)\n",
    " #   for i in range(out_data.shape[0]):\n",
    "#        out_data[i,:,:] = data[i:sequence_length+i,:]\n",
    " #       out_y[i] = data[sequence_length+i+1,y_ind]\n",
    "  #  return out_data, out_y\n",
    "\n",
    "#sequence_length = 20\n",
    "#y_ind = 3\n",
    "#X_train, Y_train = reshape_sequences(x_train, sequence_length, y_ind)\n",
    "\n",
    "#print(Y_train.shape)\n",
    "#print(X_train.shape)\n",
    "#print(np.mean(X_train[:,1]))\n",
    "#X_dev = ((x_dev - x_mu)/x_cov).T # Use same distrib for others --> don't use \"future\" data\n",
    "#X_test = ((x_test - x_mu)/x_cov).T"
   ]
  },
  {
   "cell_type": "code",
   "execution_count": 6,
   "metadata": {},
   "outputs": [],
   "source": [
    "def initialize_parameters(num_hid_layers, size_hid_layers, n_x, output_size):\n",
    "    parameters = {}\n",
    "    total_layers = num_hid_layers+1\n",
    "    \n",
    "    for l in range(1,total_layers+1):\n",
    "        if l == 1:\n",
    "            a = size_hid_layers\n",
    "            b = n_x\n",
    "        elif l == total_layers:\n",
    "            a = output_size\n",
    "            b = size_hid_layers\n",
    "        else:\n",
    "            a = size_hid_layers\n",
    "            b = size_hid_layers\n",
    "            \n",
    "        parameters['w' + str(l)] = tf.get_variable('w'+str(l), [a, b], initializer = tf.contrib.layers.xavier_initializer(seed = 1))\n",
    "        parameters['b' + str(l)] = tf.get_variable('b'+str(l), [a,1], initializer = tf.zeros_initializer())    \n",
    "    return parameters"
   ]
  },
  {
   "cell_type": "code",
   "execution_count": 7,
   "metadata": {},
   "outputs": [],
   "source": [
    "def forward_prop(X,parameters):\n",
    "    total_layers = len(parameters)//2\n",
    "    layer_outputs = {}\n",
    "    layer_outputs['A0'] = X\n",
    "    \n",
    "    for l in range(1,total_layers+1):\n",
    "        layer_outputs['Z' + str(l)] = tf.matmul(parameters['w' + str(l)],layer_outputs['A' + str(l-1)])+parameters['b' + str(l)]\n",
    "        layer_outputs['A' + str(l)] = tf.nn.relu(layer_outputs['Z' + str(l)])\n",
    "        #layer_outputs['A' + str(l)] = tf.nn.dropout(layer_outputs['A' + str(l)],keep_prob)\n",
    "    \n",
    "    return layer_outputs['Z' + str(total_layers)]"
   ]
  },
  {
   "cell_type": "code",
   "execution_count": 159,
   "metadata": {},
   "outputs": [],
   "source": [
    "def model(X_train, Y_train, learning_rate, num_epochs, num_hid_layers, size_hid_layers, minibatch_size, print_interval=10):\n",
    "\n",
    "    ops.reset_default_graph()                         # to be able to rerun the model without overwriting tf variables\n",
    "    tf.set_random_seed(1)                             # to keep consistent results\n",
    "    (num_batches, m, seq_length, n_x) = X_train.shape                          # (n_x: input size, m : number of examples in the train set)\n",
    "    n_y = Y_train.shape[0]                            # n_y : output size\n",
    "    losses = []                                        # To keep track of the cost\n",
    "    \n",
    "    O = 1 # output size?\n",
    "    w1_shape = [O, size_hid_layers]\n",
    "    b1_shape = [O,1]\n",
    "    \n",
    "    w1 = tf.get_variable(\"w1\", w1_shape, initializer=tf.contrib.layers.xavier_initializer(seed=1))\n",
    "    b1 = tf.get_variable(\"b1\", b1_shape, initializer = tf.zeros_initializer())\n",
    "    \n",
    "    X = tf.placeholder(tf.float32,[None, seq_length, n_x]) # inputs to LSTM are (# data examples, num_steps, input_size)\n",
    "    Y = tf.placeholder(tf.float32,[None])\n",
    "\n",
    "    # create 2 LSTMCells\n",
    "    rnn_layers = [tf.nn.rnn_cell.LSTMCell(size_hid_layers) for size_hid_layers in [size_hid_layers, size_hid_layers]]\n",
    "\n",
    "    # create a RNN cell composed sequentially of a number of RNNCells\n",
    "    multi_rnn_cell = tf.nn.rnn_cell.MultiRNNCell(rnn_layers)\n",
    "\n",
    "    outputs, state = tf.nn.dynamic_rnn(cell=multi_rnn_cell, inputs=X, dtype=tf.float32)\n",
    "    #print(outputs.shape)\n",
    "    #print(outputs[:,1,:].shape)\n",
    "    # WANT 1 OUTPUT value so outputs is ideally hidden_layer x # data samples, but currently its # data samples, seq, features\n",
    "    # the 20 outputs are for each sequence step, want the last one I believe\n",
    "    Z1 = tf.matmul(w1,tf.transpose(outputs[:,-1,:]))+b1 # fully connected layer\n",
    "    out = Z1\n",
    "    \n",
    "    #parameters = initialize_parameters(num_hid_layers, size_hid_layers, n_x, O)\n",
    "    #out = forward_prop(X, parameters)\n",
    "    \n",
    "    #loss = tf.reduce_mean(tf.squared_difference(out, Y)) # L2 loss --> not good for our problem\n",
    "    loss = tf.reduce_mean(tf.losses.absolute_difference(Y,tf.squeeze(out))) # L1 loss\n",
    "    \n",
    "    optimizer = tf.train.AdamOptimizer(learning_rate).minimize(loss) # Optimizer, change the learning rate here\n",
    "\n",
    "    init = tf.global_variables_initializer() # When init is run later (session.run(init)),\n",
    "    with tf.Session() as sess: # starting tf session --> all computation on tf graph in this with struct\n",
    "        sess.run(init)\n",
    "        for epoch in range(num_epochs+1):\n",
    "            for batch in range(num_batches):\n",
    "                _, loss_val = sess.run([optimizer, loss], feed_dict={X: np.squeeze(X_train[batch,:,:,:]), Y: np.squeeze(Y_train[batch,:])})\n",
    "            losses.append(loss_val)\n",
    "            if epoch % (num_epochs/print_interval) == 0:\n",
    "                print(\"Loss: \",loss_val)\n",
    "            "
   ]
  },
  {
   "cell_type": "code",
   "execution_count": null,
   "metadata": {
    "scrolled": true
   },
   "outputs": [],
   "source": [
    "learning_rate = 0.008#0.0005\n",
    "num_epochs = 1 # total number of epochs to iterate through\n",
    "print_interval = 1 # number of prints per total run\n",
    "minibatch_size = 10\n",
    "num_hid_layers = 3\n",
    "size_hid_layers = 128\n",
    "\n",
    "model(bx_train, by_train, learning_rate, num_epochs, num_hid_layers, size_hid_layers, minibatch_size, print_interval)"
   ]
  }
 ],
 "metadata": {
  "anaconda-cloud": {},
  "kernelspec": {
   "display_name": "Python 3",
   "language": "python",
   "name": "python3"
  },
  "language_info": {
   "codemirror_mode": {
    "name": "ipython",
    "version": 3
   },
   "file_extension": ".py",
   "mimetype": "text/x-python",
   "name": "python",
   "nbconvert_exporter": "python",
   "pygments_lexer": "ipython3",
   "version": "3.6.4"
  }
 },
 "nbformat": 4,
 "nbformat_minor": 2
}
