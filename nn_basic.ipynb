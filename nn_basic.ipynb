{
 "cells": [
  {
   "cell_type": "code",
   "execution_count": 1,
   "metadata": {
    "collapsed": false
   },
   "outputs": [
    {
     "name": "stderr",
     "output_type": "stream",
     "text": [
      "/home/mhowland/anaconda2/lib/python2.7/site-packages/h5py/__init__.py:34: FutureWarning: Conversion of the second argument of issubdtype from `float` to `np.floating` is deprecated. In future, it will be treated as `np.float64 == np.dtype(float).type`.\n",
      "  from ._conv import register_converters as _register_converters\n"
     ]
    },
    {
     "ename": "ImportError",
     "evalue": "No module named utils",
     "output_type": "error",
     "traceback": [
      "\u001b[0;31m---------------------------------------------------------------------------\u001b[0m",
      "\u001b[0;31mImportError\u001b[0m                               Traceback (most recent call last)",
      "\u001b[0;32m<ipython-input-1-5a706b81f031>\u001b[0m in \u001b[0;36m<module>\u001b[0;34m()\u001b[0m\n\u001b[1;32m     10\u001b[0m \u001b[0;32mimport\u001b[0m \u001b[0msys\u001b[0m\u001b[0;34m\u001b[0m\u001b[0m\n\u001b[1;32m     11\u001b[0m \u001b[0msys\u001b[0m\u001b[0;34m.\u001b[0m\u001b[0mpath\u001b[0m\u001b[0;34m.\u001b[0m\u001b[0mappend\u001b[0m\u001b[0;34m(\u001b[0m\u001b[0mos\u001b[0m\u001b[0;34m.\u001b[0m\u001b[0mpath\u001b[0m\u001b[0;34m.\u001b[0m\u001b[0mabspath\u001b[0m\u001b[0;34m(\u001b[0m\u001b[0mcwd\u001b[0m\u001b[0;34m)\u001b[0m\u001b[0;34m)\u001b[0m\u001b[0;34m\u001b[0m\u001b[0m\n\u001b[0;32m---> 12\u001b[0;31m \u001b[0;32mimport\u001b[0m \u001b[0mutils\u001b[0m\u001b[0;34m\u001b[0m\u001b[0m\n\u001b[0m",
      "\u001b[0;31mImportError\u001b[0m: No module named utils"
     ]
    }
   ],
   "source": [
    "## Load modules\n",
    "import tensorflow as tf\n",
    "from tensorflow.python.framework import ops\n",
    "import numpy as np\n",
    "from numpy import genfromtxt\n",
    "import matplotlib.pyplot as plt\n",
    "%matplotlib inline\n",
    "import os\n",
    "cwd = os.getcwd() # current working directory\n",
    "import sys\n",
    "sys.path.append(os.path.abspath(cwd))\n",
    "import utils"
   ]
  },
  {
   "cell_type": "code",
   "execution_count": null,
   "metadata": {
    "collapsed": true
   },
   "outputs": [],
   "source": [
    "import sys\n",
    "sys.path.append(os.path.abspath(cwd))"
   ]
  },
  {
   "cell_type": "code",
   "execution_count": null,
   "metadata": {
    "collapsed": true
   },
   "outputs": [],
   "source": [
    "## Load data\n",
    "#data_dir = \"cycle_10bins_conditions_none\"#\"2sec_data_avg\" # name of the data folder\n",
    "\n",
    "# Loading the train, dev, test data from specified folder\n",
    "#os.chdir(cwd+\"/\"+data_dir+\"/train\")\n",
    "#x_train = genfromtxt(\"x_train.csv\", delimiter=',')\n",
    "#y_train = genfromtxt(\"y_train.csv\", delimiter=',')"
   ]
  },
  {
   "cell_type": "code",
   "execution_count": null,
   "metadata": {
    "collapsed": false
   },
   "outputs": [],
   "source": [
    "# data (num_samples, features)\n",
    "basedir = '/home/mhowland/Dropbox/Research/Stanford/Lele/AWS_2016-06_Multi-Height_Time_Series/'\n",
    "windFile = 'Firewheel_FWL'+str(1)+'_mast_file_tsec_72-months.csv'\n",
    "def importWindFile(basedir, windFile):\n",
    "    data = np.loadtxt(basedir+windFile, delimiter=',', skiprows=7)\n",
    "    ws = np.zeros((data.shape[0],5))\n",
    "    time = np.linspace(0., 10.*data.shape[0],data.shape[0])\n",
    "    nt = ws.shape[0]\n",
    "    hour = data[:,3]\n",
    "    month = data[:,1]\n",
    "    for i  in range(0,5):\n",
    "        ind = 5*(i+1)\n",
    "        ws[:,i] = data[:,ind]\n",
    "    return ws, hour, time, nt, month\n",
    "ws, hour, time, nt, month = importWindFile(basedir, windFile)\n"
   ]
  },
  {
   "cell_type": "code",
   "execution_count": null,
   "metadata": {
    "collapsed": false
   },
   "outputs": [],
   "source": [
    "# Full dataset\n",
    "Nt = ws.shape[0]\n",
    "# Physical parameters\n",
    "horizon = 18\n",
    "dataHeight = 0 # index of the height we want\n",
    "# Initialize\n",
    "xFull = np.zeros((horizon-1,Nt))\n",
    "yFull = np.zeros((Nt,1))\n",
    "for i in range(horizon,Nt):\n",
    "    xFull[:,i-horizon] = ws[i-horizon:i-1,dataHeight]\n",
    "    yFull[i-horizon] = ws[i,dataHeight]\n",
    "# Select the dev set\n",
    "randomSeed = int(np.round(np.random.rand(1)*Nt))\n",
    "n_dev = int(np.round(Nt*0.01)) # use 1% of the data for dev\n",
    "x_dev = xFull[:,randomSeed:randomSeed+n_dev]\n",
    "y_dev = yFull[randomSeed:randomSeed+n_dev]\n",
    "x_dev = x_dev.T\n",
    "# Set the test data as the rest of it\n",
    "x_train = np.append(xFull[:,0:randomSeed-1],xFull[:,randomSeed+n_dev+1:Nt],axis=1)\n",
    "y_train = np.append(yFull[0:randomSeed-1],yFull[randomSeed+n_dev+1:Nt],axis=0)\n",
    "x_train = x_train.T\n",
    "print(x_train.shape)\n",
    "print(x_dev.shape)"
   ]
  },
  {
   "cell_type": "code",
   "execution_count": null,
   "metadata": {
    "collapsed": true
   },
   "outputs": [],
   "source": [
    "# Train set\n",
    "#nt = 1000\n",
    "#horizon = 18\n",
    "#n_train = nt-horizon\n",
    "#x_train = np.zeros((horizon-1,n_train))\n",
    "#y_train = np.zeros((n_train,1))\n",
    "#dataHeight = 0 # index of the height we want\n",
    "#for i in range(horizon,nt):\n",
    "#    x_train[:,i-horizon] = ws[i-horizon:i-1,dataHeight]\n",
    "#    y_train[i-horizon] = ws[i,dataHeight]\n",
    "#x_train = x_train.T\n",
    "# Dev set\n",
    "#randomSeed = 180 # days in the future from the train set\n",
    "#randomSeed = randomSeed*24*6 # dev is some amount of day in the future\n",
    "#nd = 100\n",
    "#n_dev = nd-horizon\n",
    "#x_dev = np.zeros((horizon-1,n_dev))\n",
    "#y_dev = np.zeros((n_dev,1))\n",
    "#for i in range(horizon,nd):\n",
    "#    x_dev[:,i-horizon] = ws[randomSeed+i-horizon:randomSeed+i-1,dataHeight]\n",
    "#    y_dev[i-horizon] = ws[randomSeed+i,dataHeight]\n",
    "#x_dev = x_dev.T"
   ]
  },
  {
   "cell_type": "code",
   "execution_count": null,
   "metadata": {
    "collapsed": true
   },
   "outputs": [],
   "source": [
    "#print(x_all.shape)\n",
    "#x_train = x_all[10:110,10:20] # (100,10)\n",
    "data_size, features = x_train.shape"
   ]
  },
  {
   "cell_type": "code",
   "execution_count": null,
   "metadata": {
    "collapsed": false
   },
   "outputs": [],
   "source": [
    "def normalize_data(data):\n",
    "    mu = np.mean(data,axis=0) # compute the mean along axis = 0 (num_samples for raw data)\n",
    "    cov = np.std(data,axis=0) # using std instead of variance seems to be best\n",
    "    return mu, cov # returning the normalizations for the data\n",
    "\n",
    "x_mu, x_cov = normalize_data(x_train) # x_train is (features x num_samples)\n",
    "y_mu, y_cov = normalize_data(y_train) # x_train is (features x num_samples)\n",
    "\n",
    "#y_mu, y_cov = normalize_data(y_train)\n",
    "\n",
    "X_train = ((x_train - x_mu)/x_cov).T # still in (features, data_samples)\n",
    "Y_train = np.squeeze(y_train)\n",
    "X_dev = ((x_dev - x_mu)/x_cov).T # still in (features, data_samples)\n",
    "Y_dev = np.squeeze(y_dev)\n",
    "print(X_train.shape)\n",
    "print(Y_train.shape)"
   ]
  },
  {
   "cell_type": "code",
   "execution_count": null,
   "metadata": {
    "collapsed": true
   },
   "outputs": [],
   "source": [
    "def initialize_parameters(num_hid_layers, size_hid_layers, n_x, output_size):\n",
    "    parameters = {}\n",
    "    total_layers = num_hid_layers+1\n",
    "    \n",
    "    for l in range(1,total_layers+1):\n",
    "        if l == 1:\n",
    "            a = size_hid_layers\n",
    "            b = n_x\n",
    "        elif l == total_layers:\n",
    "            a = output_size\n",
    "            b = size_hid_layers\n",
    "        else:\n",
    "            a = size_hid_layers\n",
    "            b = size_hid_layers\n",
    "            \n",
    "        parameters['w' + str(l)] = tf.get_variable('w'+str(l), [a, b], initializer = tf.contrib.layers.xavier_initializer(seed = 1))\n",
    "        parameters['b' + str(l)] = tf.get_variable('b'+str(l), [a,1], initializer = tf.zeros_initializer())    \n",
    "    return parameters"
   ]
  },
  {
   "cell_type": "code",
   "execution_count": null,
   "metadata": {
    "collapsed": true
   },
   "outputs": [],
   "source": [
    "def forward_prop(X,parameters,keep_prob=1.):\n",
    "    total_layers = len(parameters)//2\n",
    "    layer_outputs = {}\n",
    "    layer_outputs['A0'] = X\n",
    "    \n",
    "    for l in range(1,total_layers+1):\n",
    "        layer_outputs['Z' + str(l)] = tf.matmul(parameters['w' + str(l)],layer_outputs['A' + str(l-1)])+parameters['b' + str(l)]\n",
    "        layer_outputs['A' + str(l)] = tf.nn.relu(layer_outputs['Z' + str(l)])\n",
    "        layer_outputs['A' + str(l)] = tf.nn.dropout(layer_outputs['A' + str(l)],keep_prob)\n",
    "    \n",
    "    return layer_outputs['Z' + str(total_layers)]"
   ]
  },
  {
   "cell_type": "code",
   "execution_count": null,
   "metadata": {
    "collapsed": true
   },
   "outputs": [],
   "source": [
    "#def model(X_train, Y_train, X_dev, Y_dev, learning_rate, beta, k_p,\n",
    "#         num_epochs, num_hid_layers, size_hid_layers, minibatch_size, print_interval=10,plotting = True,\n",
    "#         reg_type='L2'):\n",
    "def model(X_train, Y_train, X_dev, Y_dev, learning_rate, beta, k_p, reg_type,\n",
    "          num_epochs, num_hid_layers, size_hid_layers, log_dir='None'\n",
    "          plotting = True, print_interval=10):\n",
    "\n",
    "    ops.reset_default_graph()                         # to be able to rerun the model without overwriting tf variables\n",
    "    tf.set_random_seed(1)                             # to keep consistent results\n",
    "    (n_x, m) = X_train.shape                          # (n_x: input size, m : number of examples in the train set)\n",
    "    n_y = Y_train.shape[0]                            # n_y : output size\n",
    "    losses = []                                        # To keep track of the cost\n",
    "    train_errs = []                                        # To keep track of the cost\n",
    "    dev_errs = []                                        # To keep track of the cost\n",
    "    eps = 10**-8.\n",
    "    \n",
    "    O = 1 # output size?\n",
    "    \n",
    "    X = tf.placeholder(tf.float32,[n_x,None])\n",
    "    Y = tf.placeholder(tf.float32,[None])\n",
    "    keep_prob = tf.placeholder(tf.float32)\n",
    "    \n",
    "    parameters = initialize_parameters(num_hid_layers, size_hid_layers, n_x, O)\n",
    "    out = forward_prop(X, parameters)\n",
    "    \n",
    "    #loss = tf.reduce_mean(tf.squared_difference(out, Y)) # L2 loss --> not good for our problem\n",
    "    loss = tf.reduce_mean(tf.losses.absolute_difference(Y,tf.squeeze(out))) # L1 loss\n",
    "    \n",
    "    # Loss function with L2 Regularization\n",
    "    if reg_type == \"L2\":\n",
    "        for l in range(1,num_hid_layers+2):\n",
    "            if l == 1:\n",
    "                regularizers = tf.nn.l2_loss(parameters['w' + str(l)]) \n",
    "            else:\n",
    "                regularizers = regularizers + tf.nn.l2_loss(parameters['w' + str(l)])\n",
    "\n",
    "        loss = tf.reduce_mean(loss + beta * regularizers)\n",
    "    elif reg_type == \"L1\":\n",
    "        print(\"Add L1 regularization here\")\n",
    "    \n",
    "    optimizer = tf.train.AdamOptimizer(learning_rate).minimize(loss) # Optimizer, change the learning rate here\n",
    "\n",
    "    init = tf.global_variables_initializer() # When init is run later (session.run(init)),\n",
    "    with tf.Session() as sess: # starting tf session --> all computation on tf graph in this with struct\n",
    "        sess.run(init)\n",
    "        for epoch in range(num_epochs+1):\n",
    "            _, loss_val = sess.run([optimizer, loss], feed_dict={X: X_train, Y: Y_train})\n",
    "            losses.append(loss_val)\n",
    "            if epoch % (num_epochs/print_interval) == 0:\n",
    "                print(\"Loss: \",loss_val)\n",
    "                # Output the predictions\n",
    "                train_pred = sess.run(out, feed_dict={X: X_train})\n",
    "                dev_pred = sess.run(out, feed_dict={X: X_dev})\n",
    "                train_err = np.divide(np.mean(abs(train_pred - Y_train)),np.mean(abs(Y_train))) # absolute error\n",
    "                dev_err = np.divide(np.mean(abs(dev_pred - Y_dev)),np.mean(abs(Y_dev))) # absolute error\n",
    "                train_errs.append(train_err)\n",
    "                dev_errs.append(dev_err)\n",
    "        print('Train error: ', train_err)\n",
    "        print('Dev error: ', dev_err)\n",
    "        if plotting:\n",
    "            # Plot percent errors during iterations\n",
    "            fig = plt.figure(num=None, dpi=200, facecolor='w', edgecolor='k'); ax = plt.gca()\n",
    "            plt.plot(np.squeeze(train_errs))\n",
    "            ax.set_yscale('log')\n",
    "            plt.ylabel('Percent error')\n",
    "            plt.title(\"Error for learning rate = \" + str(learning_rate))\n",
    "            plt.show()\n",
    "     \n",
    "    \n",
    "    results = train_errs, Y_train, train_pred, Y_dev, dev_pred, dev_errs\n",
    "    return results"
   ]
  },
  {
   "cell_type": "code",
   "execution_count": null,
   "metadata": {
    "collapsed": false,
    "scrolled": true
   },
   "outputs": [],
   "source": [
    "learning_rate = 0.005#0.0005\n",
    "num_epochs = 100 # total number of epochs to iterate through\n",
    "print_interval = 10 # number of prints per total run\n",
    "minibatch_size = 10\n",
    "num_hid_layers = 2\n",
    "size_hid_layers = 128\n",
    "beta=0\n",
    "reg_type = 'None'\n",
    "k_p = 1.\n",
    "\n",
    "#results=model(X_train, Y_train, X_dev, Y_dev, learning_rate, num_epochs, num_hid_layers, size_hid_layers, minibatch_size, print_interval, plotting=False)\n",
    "results=model(X_train, Y_train, X_dev, Y_dev, learning_rate, beta, k_p, reg_type,\n",
    "          num_epochs, num_hid_layers, size_hid_layers, log_dir='None'\n",
    "          plotting = True, print_interval=10)"
   ]
  },
  {
   "cell_type": "code",
   "execution_count": null,
   "metadata": {
    "collapsed": false,
    "scrolled": false
   },
   "outputs": [],
   "source": [
    "## Plot Results\n",
    "plotData = True\n",
    "plotPred = False\n",
    "if plotData==True:\n",
    "    # Train error\n",
    "    train_err = results[0]\n",
    "    fig = plt.figure(num=None, dpi=200, facecolor='w', edgecolor='k'); ax = plt.gca()\n",
    "    plt.plot(np.squeeze(train_err))\n",
    "    ax.set_yscale('log')\n",
    "    plt.ylabel('Train percent error')\n",
    "    plt.title(\"Error for learning rate = \" + str(learning_rate))\n",
    "    plt.show()\n",
    "    # Dev error\n",
    "    dev_err = results[5]\n",
    "    fig = plt.figure(num=None, dpi=200, facecolor='w', edgecolor='k'); ax = plt.gca()\n",
    "    plt.plot(np.squeeze(dev_err))\n",
    "    ax.set_yscale('log')\n",
    "    plt.ylabel('Dev percent error')\n",
    "    plt.title(\"Error for learning rate = \" + str(learning_rate))\n",
    "    plt.show()\n",
    "    if plotPred == True:\n",
    "        # Predictions vs train\n",
    "        Y_train = results[1]\n",
    "        Y_pred = results[2]\n",
    "        fig = plt.figure(num=None, dpi=200, facecolor='w', edgecolor='k'); ax = plt.gca()\n",
    "        plt.plot(np.squeeze(Y_train[1:1000]))\n",
    "        plt.plot(np.squeeze(Y_pred[1:1000]))\n",
    "        plt.ylabel('Wind speed, [m/s]')\n",
    "        plt.show()\n",
    "        # Predictions vs dev\n",
    "        Y_dev = results[3]\n",
    "        dev_pred = results[4]\n",
    "        fig = plt.figure(num=None, dpi=200, facecolor='w', edgecolor='k'); ax = plt.gca()\n",
    "        plt.plot(np.squeeze(Y_dev))\n",
    "        plt.plot(np.squeeze(dev_pred))\n",
    "        plt.ylabel('Wind speed, [m/s]')\n",
    "        plt.show()\n"
   ]
  },
  {
   "cell_type": "code",
   "execution_count": null,
   "metadata": {
    "collapsed": true
   },
   "outputs": [],
   "source": [
    "# Does creating a log file in each call to the model function mess up the main log file?\n",
    "\n",
    "def hyperparamSearch(X_train, Y_train, X_dev, Y_dev, X_test, Y_test, lr_rng, num_hid_layers_rng, beta_rng, k_p_rng, reg_type,\n",
    "                     size_hid_layers_rng, num_sims, num_epochs, minibatch_size, log_dir, parallel=False, cores=1):\n",
    "    # compute random values within the ranges for each param of length num_sims\n",
    "    num_features, data_length = X_train.shape \n",
    "    num_params = 5\n",
    "    np.random.seed(13) # set seed for rand\n",
    "    lower_bounds = [lr_rng[0],num_hid_layers_rng[0],size_hid_layers_rng[0],beta_rng[0],k_p_rng[0]]\n",
    "    upper_bounds = [lr_rng[1],num_hid_layers_rng[1],size_hid_layers_rng[1],beta_rng[1],k_p_rng[1]]\n",
    "    sample_size = [num_sims, num_params] # num_sims x number of params in search\n",
    "    samples_params = np.random.uniform(lower_bounds, upper_bounds, sample_size)\n",
    "\n",
    "    # modifying the initial random parameters\n",
    "    lr_samples = 10**samples_params[:,0] # log scale\n",
    "    hl_samples = samples_params[:,1].astype(int) # rounded down to nearest int\n",
    "    hu_samples = (samples_params[:,2]*num_features).astype(int) # base of 10 neurons used for each level\n",
    "    beta = samples_params[:,3]\n",
    "    k_p = samples_params[:,4]\n",
    "    \n",
    "    # save the data for the ranges used to the main sim file\n",
    "    utils.logging.info(\"lr_rng = \"+str(lr_rng)+\" hidden layers rng = \"+str(num_hid_layers_rng)+\" hidden units rng = \"+str(size_hid_layers_rng)+\" num sims = %d\", num_sims)\n",
    "    \n",
    "    results = [0.0,0.0,0.0,0.0,0.0,0.0,0.0,0.0,0.0,0.0,0.0]\n",
    "    \n",
    "    if parallel: # Need cores \n",
    "        print(\"parallelizing the training\") # add parallel ability for specified number of cores similar to funct above\n",
    "        results = multi_sim(X_train, Y_train, X_dev, Y_dev, X_test, Y_test, lr_samples, beta, k_p, reg_type,\n",
    "                            num_epochs, hl_samples, hu_samples, minibatch_size, log_dir, True, False, 10, \n",
    "                            100, True, cores)\n",
    "        print(results)\n",
    "    else:\n",
    "        for i in range(len(lr_samples)):\n",
    "            train_err, dev_err, test_err, min_dev, min_epoch = model(X_train, Y_train, X_dev, Y_dev, X_test, Y_test, lr_samples[i], beta[i], k_p[i], reg_type,\n",
    "                                                                 num_epochs, hl_samples[i], hu_samples[i], minibatch_size, \n",
    "                                                                log_dir, False, False, 10, 100, False, 0) # call model funct\n",
    "            temp_results = np.array([lr_samples[i], hl_samples[i], hu_samples[i], beta[i], k_p[i], num_epochs, train_err, dev_err, test_err, min_epoch, min_dev])\n",
    "            #utils.set_logger(os.path.join(cwd+\"/\"+log_dir,log_dir+'.log')) # reset logger to main log file\n",
    "            utils.logging.info(\"START OF NEW MODEL\")\n",
    "            utils.logging.info(\"learning rate = %f, hidden layers = %d, hidden units = %d, beta = %f, keep_prob = %f, epochs = %d, reg_type = %s\", lr_samples[i], hl_samples[i], hu_samples[i], beta[i], k_p[i], num_epochs, reg_type) # add other hyperparams\n",
    "            utils.logging.info(\"Train Err = %f, Dev Err = %f, Test Err = %f, Min Dev Err = %f, Min Epoch = %d\", train_err, dev_err, test_err, min_dev, min_epoch) # add other hyperparams\n",
    "            results = np.vstack((results,temp_results))# get all results in a list\n",
    "        \n",
    "        # results contain an array of the parameters and then the resulting errors\n",
    "        results = results[1:,:] # get rid of placeholder row\n",
    "        results= results[results[:,-1].argsort()] # sort by the lowest dev error\n",
    "        utils.logging.info(\"RESULTS\")\n",
    "        utils.logging.info(str(results))\n",
    "    return results"
   ]
  },
  {
   "cell_type": "code",
   "execution_count": null,
   "metadata": {
    "collapsed": true
   },
   "outputs": [],
   "source": []
  }
 ],
 "metadata": {
  "anaconda-cloud": {},
  "kernelspec": {
   "display_name": "Python [default]",
   "language": "python",
   "name": "python2"
  },
  "language_info": {
   "codemirror_mode": {
    "name": "ipython",
    "version": 2
   },
   "file_extension": ".py",
   "mimetype": "text/x-python",
   "name": "python",
   "nbconvert_exporter": "python",
   "pygments_lexer": "ipython2",
   "version": "2.7.12"
  }
 },
 "nbformat": 4,
 "nbformat_minor": 2
}
