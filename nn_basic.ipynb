{
 "cells": [
  {
   "cell_type": "code",
   "execution_count": 1,
   "metadata": {
    "collapsed": false
   },
   "outputs": [
    {
     "name": "stderr",
     "output_type": "stream",
     "text": [
      "/home/mhowland/anaconda2/lib/python2.7/site-packages/h5py/__init__.py:34: FutureWarning: Conversion of the second argument of issubdtype from `float` to `np.floating` is deprecated. In future, it will be treated as `np.float64 == np.dtype(float).type`.\n",
      "  from ._conv import register_converters as _register_converters\n"
     ]
    }
   ],
   "source": [
    "## Load modules\n",
    "import tensorflow as tf\n",
    "from tensorflow.python.framework import ops\n",
    "import numpy as np\n",
    "from numpy import genfromtxt\n",
    "import matplotlib.pyplot as plt\n",
    "import os\n",
    "cwd = os.getcwd() # current working directory"
   ]
  },
  {
   "cell_type": "code",
   "execution_count": 2,
   "metadata": {
    "collapsed": true
   },
   "outputs": [],
   "source": [
    "import sys\n",
    "sys.path.append(os.path.abspath(cwd))"
   ]
  },
  {
   "cell_type": "code",
   "execution_count": 3,
   "metadata": {
    "collapsed": true
   },
   "outputs": [],
   "source": [
    "## Load data\n",
    "#data_dir = \"cycle_10bins_conditions_none\"#\"2sec_data_avg\" # name of the data folder\n",
    "\n",
    "# Loading the train, dev, test data from specified folder\n",
    "#os.chdir(cwd+\"/\"+data_dir+\"/train\")\n",
    "#x_train = genfromtxt(\"x_train.csv\", delimiter=',')\n",
    "#y_train = genfromtxt(\"y_train.csv\", delimiter=',')"
   ]
  },
  {
   "cell_type": "code",
   "execution_count": 8,
   "metadata": {
    "collapsed": false
   },
   "outputs": [],
   "source": [
    "# data (num_samples, features)\n",
    "basedir = '/home/mhowland/Dropbox/Research/Stanford/Lele/AWS_2016-06_Multi-Height_Time_Series/'\n",
    "windFile = 'Firewheel_FWL'+str(1)+'_mast_file_tsec_72-months.csv'\n",
    "def importWindFile(basedir, windFile):\n",
    "    data = np.loadtxt(basedir+windFile, delimiter=',', skiprows=7)\n",
    "    ws = np.zeros((data.shape[0],5))\n",
    "    time = np.linspace(0., 10.*data.shape[0],data.shape[0])\n",
    "    nt = ws.shape[0]\n",
    "    hour = data[:,3]\n",
    "    month = data[:,1]\n",
    "    for i  in range(0,5):\n",
    "        ind = 5*(i+1)\n",
    "        ws[:,i] = data[:,ind]\n",
    "    return ws, hour, time, nt, month\n",
    "ws, hour, time, nt, month = importWindFile(basedir, windFile)\n"
   ]
  },
  {
   "cell_type": "code",
   "execution_count": 9,
   "metadata": {
    "collapsed": false
   },
   "outputs": [],
   "source": [
    "n_train = 1000-6\n",
    "x_train = np.zeros((5,n_train))\n",
    "y_train = np.zeros((n_train,1))\n",
    "dataHeight = 0 # index of the height we want\n",
    "for i in range(6,n_train):\n",
    "    x_train[:,i] = ws[i-6:i-1,dataHeight]\n",
    "    y_train[i] = ws[i,dataHeight]"
   ]
  },
  {
   "cell_type": "code",
   "execution_count": 6,
   "metadata": {
    "collapsed": false
   },
   "outputs": [],
   "source": [
    "#print(x_all.shape)\n",
    "#x_train = x_all[10:110,10:20] # (100,10)\n",
    "data_size, features = x_train.shape"
   ]
  },
  {
   "cell_type": "code",
   "execution_count": 7,
   "metadata": {
    "collapsed": false
   },
   "outputs": [
    {
     "ename": "MemoryError",
     "evalue": "",
     "output_type": "error",
     "traceback": [
      "\u001b[0;31m\u001b[0m",
      "\u001b[0;31mMemoryError\u001b[0mTraceback (most recent call last)",
      "\u001b[0;32m<ipython-input-7-92a4199c971b>\u001b[0m in \u001b[0;36m<module>\u001b[0;34m()\u001b[0m\n\u001b[1;32m     10\u001b[0m \u001b[0;34m\u001b[0m\u001b[0m\n\u001b[1;32m     11\u001b[0m \u001b[0mX_train\u001b[0m \u001b[0;34m=\u001b[0m \u001b[0;34m(\u001b[0m\u001b[0;34m(\u001b[0m\u001b[0mx_train\u001b[0m \u001b[0;34m-\u001b[0m \u001b[0mx_mu\u001b[0m\u001b[0;34m)\u001b[0m\u001b[0;34m/\u001b[0m\u001b[0mx_cov\u001b[0m\u001b[0;34m)\u001b[0m\u001b[0;34m.\u001b[0m\u001b[0mT\u001b[0m \u001b[0;31m# still in (features, data_samples)\u001b[0m\u001b[0;34m\u001b[0m\u001b[0m\n\u001b[0;32m---> 12\u001b[0;31m \u001b[0mY_train\u001b[0m \u001b[0;34m=\u001b[0m \u001b[0;34m(\u001b[0m\u001b[0;34m(\u001b[0m\u001b[0my_train\u001b[0m \u001b[0;34m-\u001b[0m \u001b[0my_mu\u001b[0m\u001b[0;34m)\u001b[0m\u001b[0;34m/\u001b[0m\u001b[0mx_cov\u001b[0m\u001b[0;34m)\u001b[0m\u001b[0;34m.\u001b[0m\u001b[0mT\u001b[0m \u001b[0;31m# still in (features, data_samples)\u001b[0m\u001b[0;34m\u001b[0m\u001b[0m\n\u001b[0m\u001b[1;32m     13\u001b[0m \u001b[0;31m#Y_train = 0.5*X_train[1,:].T\u001b[0m\u001b[0;34m\u001b[0m\u001b[0;34m\u001b[0m\u001b[0m\n\u001b[1;32m     14\u001b[0m \u001b[0;32mprint\u001b[0m\u001b[0;34m(\u001b[0m\u001b[0mY_train\u001b[0m\u001b[0;34m.\u001b[0m\u001b[0mshape\u001b[0m\u001b[0;34m)\u001b[0m\u001b[0;34m\u001b[0m\u001b[0m\n",
      "\u001b[0;31mMemoryError\u001b[0m: "
     ]
    }
   ],
   "source": [
    "def normalize_data(data):\n",
    "    mu = np.mean(data,axis=0) # compute the mean along axis = 0 (num_samples for raw data)\n",
    "    cov = np.std(data,axis=0) # using std instead of variance seems to be best\n",
    "    return mu, cov # returning the normalizations for the data\n",
    "\n",
    "x_mu, x_cov = normalize_data(x_train) # x_train is (features x num_samples)\n",
    "y_mu, y_cov = normalize_data(x_train) # x_train is (features x num_samples)\n",
    "\n",
    "#y_mu, y_cov = normalize_data(y_train)\n",
    "\n",
    "X_train = ((x_train - x_mu)/x_cov).T # still in (features, data_samples)\n",
    "Y_train = ((y_train - y_mu)/x_cov).T # still in (features, data_samples)\n",
    "#Y_train = 0.5*X_train[1,:].T\n",
    "print(Y_train.shape)\n",
    "#print(np.mean(X_train[:,1]))\n",
    "#X_dev = ((x_dev - x_mu)/x_cov).T # Use same distrib for others --> don't use \"future\" data\n",
    "#X_test = ((x_test - x_mu)/x_cov).T"
   ]
  },
  {
   "cell_type": "code",
   "execution_count": null,
   "metadata": {
    "collapsed": true
   },
   "outputs": [],
   "source": [
    "def initialize_parameters(num_hid_layers, size_hid_layers, n_x, output_size):\n",
    "    parameters = {}\n",
    "    total_layers = num_hid_layers+1\n",
    "    \n",
    "    for l in range(1,total_layers+1):\n",
    "        if l == 1:\n",
    "            a = size_hid_layers\n",
    "            b = n_x\n",
    "        elif l == total_layers:\n",
    "            a = output_size\n",
    "            b = size_hid_layers\n",
    "        else:\n",
    "            a = size_hid_layers\n",
    "            b = size_hid_layers\n",
    "            \n",
    "        parameters['w' + str(l)] = tf.get_variable('w'+str(l), [a, b], initializer = tf.contrib.layers.xavier_initializer(seed = 1))\n",
    "        parameters['b' + str(l)] = tf.get_variable('b'+str(l), [a,1], initializer = tf.zeros_initializer())    \n",
    "    return parameters"
   ]
  },
  {
   "cell_type": "code",
   "execution_count": null,
   "metadata": {
    "collapsed": true
   },
   "outputs": [],
   "source": [
    "def forward_prop(X,parameters):\n",
    "    total_layers = len(parameters)//2\n",
    "    layer_outputs = {}\n",
    "    layer_outputs['A0'] = X\n",
    "    \n",
    "    for l in range(1,total_layers+1):\n",
    "        layer_outputs['Z' + str(l)] = tf.matmul(parameters['w' + str(l)],layer_outputs['A' + str(l-1)])+parameters['b' + str(l)]\n",
    "        layer_outputs['A' + str(l)] = tf.nn.relu(layer_outputs['Z' + str(l)])\n",
    "        #layer_outputs['A' + str(l)] = tf.nn.dropout(layer_outputs['A' + str(l)],keep_prob)\n",
    "    \n",
    "    return layer_outputs['Z' + str(total_layers)]"
   ]
  },
  {
   "cell_type": "code",
   "execution_count": null,
   "metadata": {
    "collapsed": true
   },
   "outputs": [],
   "source": [
    "def model(X_train, Y_train, learning_rate, num_epochs, num_hid_layers, size_hid_layers, minibatch_size, print_interval=10):\n",
    "\n",
    "    ops.reset_default_graph()                         # to be able to rerun the model without overwriting tf variables\n",
    "    tf.set_random_seed(1)                             # to keep consistent results\n",
    "    (n_x, m) = X_train.shape                          # (n_x: input size, m : number of examples in the train set)\n",
    "    n_y = Y_train.shape[0]                            # n_y : output size\n",
    "    losses = []                                        # To keep track of the cost\n",
    "    \n",
    "    O = 1 # output size?\n",
    "    \n",
    "    X = tf.placeholder(tf.float32,[n_x,None])\n",
    "    Y = tf.placeholder(tf.float32,[None])\n",
    "    \n",
    "    parameters = initialize_parameters(num_hid_layers, size_hid_layers, n_x, O)\n",
    "    out = forward_prop(X, parameters)\n",
    "    \n",
    "    loss = tf.reduce_mean(tf.squared_difference(out, Y)) # L2 loss --> not good for our problem\n",
    "    #loss = tf.reduce_mean(tf.losses.absolute_difference(Y,tf.squeeze(out))) # L1 loss\n",
    "    \n",
    "    optimizer = tf.train.AdamOptimizer(learning_rate).minimize(loss) # Optimizer, change the learning rate here\n",
    "\n",
    "    init = tf.global_variables_initializer() # When init is run later (session.run(init)),\n",
    "    with tf.Session() as sess: # starting tf session --> all computation on tf graph in this with struct\n",
    "        sess.run(init)\n",
    "        for epoch in range(num_epochs+1):\n",
    "            _, loss_val = sess.run([optimizer, loss], feed_dict={X: X_train, Y: Y_train})\n",
    "            losses.append(loss_val)\n",
    "            if epoch % (num_epochs/print_interval) == 0:\n",
    "                print(\"Loss: \",loss_val)\n",
    "            "
   ]
  },
  {
   "cell_type": "code",
   "execution_count": null,
   "metadata": {
    "collapsed": false,
    "scrolled": true
   },
   "outputs": [],
   "source": [
    "learning_rate = 0.008#0.0005\n",
    "num_epochs = 1000 # total number of epochs to iterate through\n",
    "print_interval = 10 # number of prints per total run\n",
    "minibatch_size = 10\n",
    "num_hid_layers = 3\n",
    "size_hid_layers = 128\n",
    "\n",
    "model(X_train, Y_train, learning_rate, num_epochs, num_hid_layers, size_hid_layers, minibatch_size, print_interval)"
   ]
  }
 ],
 "metadata": {
  "anaconda-cloud": {},
  "kernelspec": {
   "display_name": "Python [conda root]",
   "language": "python",
   "name": "conda-root-py"
  },
  "language_info": {
   "codemirror_mode": {
    "name": "ipython",
    "version": 2
   },
   "file_extension": ".py",
   "mimetype": "text/x-python",
   "name": "python",
   "nbconvert_exporter": "python",
   "pygments_lexer": "ipython2",
   "version": "2.7.12"
  }
 },
 "nbformat": 4,
 "nbformat_minor": 2
}
