{
 "cells": [
  {
   "cell_type": "code",
   "execution_count": 2,
   "metadata": {
    "collapsed": false
   },
   "outputs": [],
   "source": [
    "## Load modules\n",
    "import tensorflow as tf\n",
    "from tensorflow.python.framework import ops\n",
    "import numpy as np\n",
    "from numpy import genfromtxt\n",
    "import matplotlib.pyplot as plt\n",
    "%matplotlib inline\n",
    "import os\n",
    "cwd = os.getcwd() # current working directory\n",
    "import sys\n",
    "sys.path.append(os.path.abspath(cwd))\n",
    "import utils"
   ]
  },
  {
   "cell_type": "code",
   "execution_count": 3,
   "metadata": {
    "collapsed": true
   },
   "outputs": [],
   "source": [
    "import sys\n",
    "sys.path.append(os.path.abspath(cwd))"
   ]
  },
  {
   "cell_type": "code",
   "execution_count": 4,
   "metadata": {
    "collapsed": true
   },
   "outputs": [],
   "source": [
    "## Load data\n",
    "#data_dir = \"cycle_10bins_conditions_none\"#\"2sec_data_avg\" # name of the data folder\n",
    "\n",
    "# Loading the train, dev, test data from specified folder\n",
    "#os.chdir(cwd+\"/\"+data_dir+\"/train\")\n",
    "#x_train = genfromtxt(\"x_train.csv\", delimiter=',')\n",
    "#y_train = genfromtxt(\"y_train.csv\", delimiter=',')"
   ]
  },
  {
   "cell_type": "code",
   "execution_count": 5,
   "metadata": {
    "collapsed": false
   },
   "outputs": [],
   "source": [
    "# data (num_samples, features)\n",
    "basedir = '/home/mhowland/Dropbox/Research/Stanford/Lele/AWS_2016-06_Multi-Height_Time_Series/'\n",
    "windFile = 'Firewheel_FWL'+str(1)+'_mast_file_tsec_72-months.csv'\n",
    "def importWindFile(basedir, windFile):\n",
    "    data = np.loadtxt(basedir+windFile, delimiter=',', skiprows=7)\n",
    "    ws = np.zeros((data.shape[0],5))\n",
    "    time = np.linspace(0., 10.*data.shape[0],data.shape[0])\n",
    "    nt = ws.shape[0]\n",
    "    hour = data[:,3]\n",
    "    month = data[:,1]\n",
    "    for i  in range(0,5):\n",
    "        ind = 5*(i+1)\n",
    "        ws[:,i] = data[:,ind]\n",
    "    return ws, hour, time, nt, month\n",
    "ws, hour, time, nt, month = importWindFile(basedir, windFile)\n"
   ]
  },
  {
   "cell_type": "code",
   "execution_count": 6,
   "metadata": {
    "collapsed": false
   },
   "outputs": [
    {
     "name": "stdout",
     "output_type": "stream",
     "text": [
      "(312347, 17)\n",
      "(3155, 17)\n"
     ]
    }
   ],
   "source": [
    "# Full dataset\n",
    "Nt = ws.shape[0]\n",
    "# Physical parameters\n",
    "horizon = 18\n",
    "dataHeight = 0 # index of the height we want\n",
    "# Initialize\n",
    "xFull = np.zeros((horizon-1,Nt))\n",
    "yFull = np.zeros((Nt,1))\n",
    "for i in range(horizon,Nt):\n",
    "    xFull[:,i-horizon] = ws[i-horizon:i-1,dataHeight]\n",
    "    yFull[i-horizon] = ws[i,dataHeight]\n",
    "# Select the dev set\n",
    "randomSeed = int(np.round(np.random.rand(1)*Nt))\n",
    "n_dev = int(np.round(Nt*0.01)) # use 1% of the data for dev\n",
    "x_dev = xFull[:,randomSeed:randomSeed+n_dev]\n",
    "y_dev = yFull[randomSeed:randomSeed+n_dev]\n",
    "x_dev = x_dev.T\n",
    "# Set the test data as the rest of it\n",
    "x_train = np.append(xFull[:,0:randomSeed-1],xFull[:,randomSeed+n_dev+1:Nt],axis=1)\n",
    "y_train = np.append(yFull[0:randomSeed-1],yFull[randomSeed+n_dev+1:Nt],axis=0)\n",
    "x_train = x_train.T\n",
    "print(x_train.shape)\n",
    "print(x_dev.shape)"
   ]
  },
  {
   "cell_type": "code",
   "execution_count": 7,
   "metadata": {
    "collapsed": true
   },
   "outputs": [],
   "source": [
    "# Train set\n",
    "#nt = 1000\n",
    "#horizon = 18\n",
    "#n_train = nt-horizon\n",
    "#x_train = np.zeros((horizon-1,n_train))\n",
    "#y_train = np.zeros((n_train,1))\n",
    "#dataHeight = 0 # index of the height we want\n",
    "#for i in range(horizon,nt):\n",
    "#    x_train[:,i-horizon] = ws[i-horizon:i-1,dataHeight]\n",
    "#    y_train[i-horizon] = ws[i,dataHeight]\n",
    "#x_train = x_train.T\n",
    "# Dev set\n",
    "#randomSeed = 180 # days in the future from the train set\n",
    "#randomSeed = randomSeed*24*6 # dev is some amount of day in the future\n",
    "#nd = 100\n",
    "#n_dev = nd-horizon\n",
    "#x_dev = np.zeros((horizon-1,n_dev))\n",
    "#y_dev = np.zeros((n_dev,1))\n",
    "#for i in range(horizon,nd):\n",
    "#    x_dev[:,i-horizon] = ws[randomSeed+i-horizon:randomSeed+i-1,dataHeight]\n",
    "#    y_dev[i-horizon] = ws[randomSeed+i,dataHeight]\n",
    "#x_dev = x_dev.T"
   ]
  },
  {
   "cell_type": "code",
   "execution_count": 8,
   "metadata": {
    "collapsed": true
   },
   "outputs": [],
   "source": [
    "#print(x_all.shape)\n",
    "#x_train = x_all[10:110,10:20] # (100,10)\n",
    "data_size, features = x_train.shape"
   ]
  },
  {
   "cell_type": "code",
   "execution_count": 9,
   "metadata": {
    "collapsed": false
   },
   "outputs": [
    {
     "name": "stdout",
     "output_type": "stream",
     "text": [
      "(17, 312347)\n",
      "(312347,)\n"
     ]
    }
   ],
   "source": [
    "def normalize_data(data):\n",
    "    mu = np.mean(data,axis=0) # compute the mean along axis = 0 (num_samples for raw data)\n",
    "    cov = np.std(data,axis=0) # using std instead of variance seems to be best\n",
    "    return mu, cov # returning the normalizations for the data\n",
    "\n",
    "x_mu, x_cov = normalize_data(x_train) # x_train is (features x num_samples)\n",
    "y_mu, y_cov = normalize_data(y_train) # x_train is (features x num_samples)\n",
    "\n",
    "#y_mu, y_cov = normalize_data(y_train)\n",
    "\n",
    "X_train = ((x_train - x_mu)/x_cov).T # still in (features, data_samples)\n",
    "Y_train = np.squeeze(y_train)\n",
    "X_dev = ((x_dev - x_mu)/x_cov).T # still in (features, data_samples)\n",
    "Y_dev = np.squeeze(y_dev)\n",
    "print(X_train.shape)\n",
    "print(Y_train.shape)"
   ]
  },
  {
   "cell_type": "code",
   "execution_count": 10,
   "metadata": {
    "collapsed": true
   },
   "outputs": [],
   "source": [
    "def initialize_parameters(num_hid_layers, size_hid_layers, n_x, output_size):\n",
    "    parameters = {}\n",
    "    total_layers = num_hid_layers+1\n",
    "    \n",
    "    for l in range(1,total_layers+1):\n",
    "        if l == 1:\n",
    "            a = size_hid_layers\n",
    "            b = n_x\n",
    "        elif l == total_layers:\n",
    "            a = output_size\n",
    "            b = size_hid_layers\n",
    "        else:\n",
    "            a = size_hid_layers\n",
    "            b = size_hid_layers\n",
    "            \n",
    "        parameters['w' + str(l)] = tf.get_variable('w'+str(l), [a, b], initializer = tf.contrib.layers.xavier_initializer(seed = 1))\n",
    "        parameters['b' + str(l)] = tf.get_variable('b'+str(l), [a,1], initializer = tf.zeros_initializer())    \n",
    "    return parameters"
   ]
  },
  {
   "cell_type": "code",
   "execution_count": 11,
   "metadata": {
    "collapsed": true
   },
   "outputs": [],
   "source": [
    "def forward_prop(X,parameters,keep_prob=1.):\n",
    "    total_layers = len(parameters)//2\n",
    "    layer_outputs = {}\n",
    "    layer_outputs['A0'] = X\n",
    "    \n",
    "    for l in range(1,total_layers+1):\n",
    "        layer_outputs['Z' + str(l)] = tf.matmul(parameters['w' + str(l)],layer_outputs['A' + str(l-1)])+parameters['b' + str(l)]\n",
    "        layer_outputs['A' + str(l)] = tf.nn.relu(layer_outputs['Z' + str(l)])\n",
    "        layer_outputs['A' + str(l)] = tf.nn.dropout(layer_outputs['A' + str(l)],keep_prob)\n",
    "    \n",
    "    return layer_outputs['Z' + str(total_layers)]"
   ]
  },
  {
   "cell_type": "code",
   "execution_count": 68,
   "metadata": {
    "collapsed": false
   },
   "outputs": [],
   "source": [
    "#def model(X_train, Y_train, X_dev, Y_dev, learning_rate, beta, k_p,\n",
    "#         num_epochs, num_hid_layers, size_hid_layers, minibatch_size, print_interval=10,plotting = True,\n",
    "#         reg_type='L2'):\n",
    "def model(X_train, Y_train, X_dev, Y_dev, learning_rate, beta, k_p, reg_type,\n",
    "          num_epochs, num_hid_layers, size_hid_layers, minibatch_size, log_dir, print_loss=True, \n",
    "          plotting = True, print_interval=10, plot_interval=100, parallel=False, queue=0):\n",
    "\n",
    "    ops.reset_default_graph()                         # to be able to rerun the model without overwriting tf variables\n",
    "    tf.set_random_seed(1)                             # to keep consistent results\n",
    "    (n_x, m) = X_train.shape                          # (n_x: input size, m : number of examples in the train set)\n",
    "    n_y = Y_train.shape[0]                            # n_y : output size\n",
    "    losses = []                                        # To keep track of the cost\n",
    "    train_errs = []                                        # To keep track of the cost\n",
    "    epochs = [] # keep track of epoch number\n",
    "    dev_errs = []                                        # To keep track of the cost\n",
    "    eps = 10**-8.\n",
    "    \n",
    "    O = 1 # output size?\n",
    "    \n",
    "    X = tf.placeholder(tf.float32,[n_x,None])\n",
    "    Y = tf.placeholder(tf.float32,[None])\n",
    "    keep_prob = tf.placeholder(tf.float32)\n",
    "    \n",
    "    parameters = initialize_parameters(num_hid_layers, size_hid_layers, n_x, O)\n",
    "    out = forward_prop(X, parameters)\n",
    "    \n",
    "    #loss = tf.reduce_mean(tf.squared_difference(out, Y)) # L2 loss --> not good for our problem\n",
    "    loss = tf.reduce_mean(tf.losses.absolute_difference(Y,tf.squeeze(out))) # L1 loss\n",
    "    \n",
    "    # Loss function with L2 Regularization\n",
    "    if reg_type == \"L2\":\n",
    "        for l in range(1,num_hid_layers+2):\n",
    "            if l == 1:\n",
    "                regularizers = tf.nn.l2_loss(parameters['w' + str(l)]) \n",
    "            else:\n",
    "                regularizers = regularizers + tf.nn.l2_loss(parameters['w' + str(l)])\n",
    "\n",
    "        loss = tf.reduce_mean(loss + beta * regularizers)\n",
    "    elif reg_type == \"L1\":\n",
    "        print(\"Add L1 regularization here\")\n",
    "    \n",
    "    optimizer = tf.train.AdamOptimizer(learning_rate).minimize(loss) # Optimizer, change the learning rate here\n",
    "\n",
    "    init = tf.global_variables_initializer() # When init is run later (session.run(init)),\n",
    "    \n",
    "    # Start logging file for this particular model\n",
    "    log_name = \"Model_\"+str(learning_rate)+\"_\"+str(num_epochs)+\"_\"+str(num_hid_layers)+\"_\"+str(size_hid_layers)\n",
    "    if print_loss:\n",
    "        utils.set_logger(os.path.join(cwd+\"/\"+log_dir,log_name+'.log'))\n",
    "        utils.logging.info(\"START OF NEW MODEL\")\n",
    "        utils.logging.info(\"learning rate = %f, hidden layers = %d, hidden units = %d, epochs = %d\", learning_rate, num_hid_layers, size_hid_layers, num_epochs) # add other hyperparams\n",
    "        utils.logging.info(\"L2 beta = %f, Dropout Keep Prob = %f\", beta, k_p)\n",
    "        \n",
    "        \n",
    "    with tf.Session() as sess: # starting tf session --> all computation on tf graph in this with struct\n",
    "        sess.run(init)\n",
    "        for epoch in range(num_epochs+1):\n",
    "            _, loss_val = sess.run([optimizer, loss], feed_dict={X: X_train, Y: Y_train})\n",
    "            losses.append(loss_val)\n",
    "            if epoch % (num_epochs/print_interval) == 0:\n",
    "                print(\"Loss: \",loss_val)\n",
    "                # Output the predictions\n",
    "                train_pred = sess.run(out, feed_dict={X: X_train})\n",
    "                dev_pred = sess.run(out, feed_dict={X: X_dev})\n",
    "                train_err = np.divide(np.mean(abs(train_pred - Y_train)),np.mean(abs(Y_train))) # absolute error\n",
    "                dev_err = np.divide(np.mean(abs(dev_pred - Y_dev)),np.mean(abs(Y_dev))) # absolute error\n",
    "                train_errs.append(train_err)\n",
    "                dev_errs.append(dev_err)\n",
    "                epochs.append(epoch)\n",
    "                if print_loss:\n",
    "                    utils.logging.info(\"Epoch %d loss: %f\", epoch, loss_val)    \n",
    "                    utils.logging.info(\"Train error: %f\", train_err)\n",
    "                    utils.logging.info(\"Dev error: %f\", dev_err)\n",
    "        print('Train error: ', train_err)\n",
    "        print('Dev error: ', dev_err)\n",
    "        if print_loss:\n",
    "            #utils.logging.info(\"Final test error: %f\", test_err)\n",
    "        if plotting:\n",
    "            # Plot percent errors during iterations\n",
    "            fig = plt.figure(num=None, dpi=200, facecolor='w', edgecolor='k'); ax = plt.gca()\n",
    "            plt.plot(np.squeeze(train_errs))\n",
    "            ax.set_yscale('log')\n",
    "            plt.ylabel('Percent error')\n",
    "            plt.title(\"Error for learning rate = \" + str(learning_rate))\n",
    "            plt.show()\n",
    "    ind = np.argmin(dev_errs)\n",
    "    min_dev = dev_errs[ind]\n",
    "    min_epoch = epochs[ind] \n",
    "    \n",
    "    results = train_errs, Y_train, train_pred, Y_dev, dev_pred, dev_errs, min_dev, min_epoch\n",
    "    #results = train_err, dev_err, test_err, min_dev, min_epoch\n",
    "    return results"
   ]
  },
  {
   "cell_type": "code",
   "execution_count": 69,
   "metadata": {
    "collapsed": false,
    "scrolled": true
   },
   "outputs": [
    {
     "name": "stdout",
     "output_type": "stream",
     "text": [
      "('Loss: ', 8.641299)\n",
      "('Loss: ', 4.4036174)\n",
      "('Loss: ', 2.7997031)\n",
      "('Loss: ', 1.7350639)\n",
      "('Loss: ', 1.1384971)\n",
      "('Loss: ', 0.9284608)\n",
      "('Loss: ', 0.86917156)\n",
      "('Loss: ', 0.84830534)\n",
      "('Loss: ', 0.8386651)\n",
      "('Loss: ', 0.8334456)\n",
      "('Loss: ', 0.83019847)\n",
      "('Train error: ', 0.09547287727484509)\n",
      "('Dev error: ', 0.09249932491827913)\n"
     ]
    },
    {
     "data": {
      "image/png": "[encoded data removed]",
      "text/plain": [
       "<matplotlib.figure.Figure at 0x7f5c683ff450>"
      ]
     },
     "metadata": {},
     "output_type": "display_data"
    }
   ],
   "source": [
    "learning_rate = 0.005#0.0005\n",
    "num_epochs = 100 # total number of epochs to iterate through\n",
    "print_interval = 10 # number of prints per total run\n",
    "minibatch_size = 10\n",
    "num_hid_layers = 2\n",
    "size_hid_layers = 128\n",
    "beta=0\n",
    "reg_type = 'None'\n",
    "k_p = 1.\n",
    "\n",
    "#results=model(X_train, Y_train, X_dev, Y_dev, learning_rate, num_epochs, num_hid_layers, size_hid_layers, minibatch_size, print_interval, plotting=False)\n",
    "results=model(X_train, Y_train, X_dev, Y_dev, learning_rate, beta, k_p, reg_type,\n",
    "          num_epochs, num_hid_layers, size_hid_layers, minibatch_size, log_dir, print_loss=False, \n",
    "          plotting = True, print_interval=10, plot_interval=100, parallel=False, queue=0)"
   ]
  },
  {
   "cell_type": "code",
   "execution_count": 70,
   "metadata": {
    "collapsed": false,
    "scrolled": false
   },
   "outputs": [
    {
     "data": {
      "image/png": "[encoded data removed]",
      "text/plain": [
       "<matplotlib.figure.Figure at 0x7f5cedbfe810>"
      ]
     },
     "metadata": {},
     "output_type": "display_data"
    },
    {
     "data": {
      "image/png": "[encoded data removed]",
      "text/plain": [
       "<matplotlib.figure.Figure at 0x7f5c68643590>"
      ]
     },
     "metadata": {},
     "output_type": "display_data"
    }
   ],
   "source": [
    "## Plot Results\n",
    "plotData = True\n",
    "plotPred = False\n",
    "if plotData==True:\n",
    "    # Train error\n",
    "    train_err = results[0]\n",
    "    fig = plt.figure(num=None, dpi=200, facecolor='w', edgecolor='k'); ax = plt.gca()\n",
    "    plt.plot(np.squeeze(train_err))\n",
    "    ax.set_yscale('log')\n",
    "    plt.ylabel('Train percent error')\n",
    "    plt.title(\"Error for learning rate = \" + str(learning_rate))\n",
    "    plt.show()\n",
    "    # Dev error\n",
    "    dev_err = results[5]\n",
    "    fig = plt.figure(num=None, dpi=200, facecolor='w', edgecolor='k'); ax = plt.gca()\n",
    "    plt.plot(np.squeeze(dev_err))\n",
    "    ax.set_yscale('log')\n",
    "    plt.ylabel('Dev percent error')\n",
    "    plt.title(\"Error for learning rate = \" + str(learning_rate))\n",
    "    plt.show()\n",
    "    if plotPred == True:\n",
    "        # Predictions vs train\n",
    "        Y_train = results[1]\n",
    "        Y_pred = results[2]\n",
    "        fig = plt.figure(num=None, dpi=200, facecolor='w', edgecolor='k'); ax = plt.gca()\n",
    "        plt.plot(np.squeeze(Y_train[1:1000]))\n",
    "        plt.plot(np.squeeze(Y_pred[1:1000]))\n",
    "        plt.ylabel('Wind speed, [m/s]')\n",
    "        plt.show()\n",
    "        # Predictions vs dev\n",
    "        Y_dev = results[3]\n",
    "        dev_pred = results[4]\n",
    "        fig = plt.figure(num=None, dpi=200, facecolor='w', edgecolor='k'); ax = plt.gca()\n",
    "        plt.plot(np.squeeze(Y_dev))\n",
    "        plt.plot(np.squeeze(dev_pred))\n",
    "        plt.ylabel('Wind speed, [m/s]')\n",
    "        plt.show()\n"
   ]
  },
  {
   "cell_type": "code",
   "execution_count": 97,
   "metadata": {
    "collapsed": false
   },
   "outputs": [],
   "source": [
    "# Does creating a log file in each call to the model function mess up the main log file?\n",
    "\n",
    "def hyperparamSearch(X_train, Y_train, X_dev, Y_dev, lr_rng, num_hid_layers_rng, beta_rng, k_p_rng, reg_type,\n",
    "                 size_hid_layers_rng, num_sims, num_epochs, minibatch_size, log_dir, parallel, cores):\n",
    "    # compute random values within the ranges for each param of length num_sims\n",
    "    num_features, data_length = X_train.shape \n",
    "    num_params = 5\n",
    "    np.random.seed(13) # set seed for rand\n",
    "    lower_bounds = [lr_rng[0],num_hid_layers_rng[0],size_hid_layers_rng[0],beta_rng[0],k_p_rng[0]]\n",
    "    upper_bounds = [lr_rng[1],num_hid_layers_rng[1],size_hid_layers_rng[1],beta_rng[1],k_p_rng[1]]\n",
    "    sample_size = [num_sims, num_params] # num_sims x number of params in search\n",
    "    samples_params = np.random.uniform(lower_bounds, upper_bounds, sample_size)\n",
    "\n",
    "    # modifying the initial random parameters\n",
    "    lr_samples = 10**samples_params[:,0] # log scale\n",
    "    hl_samples = samples_params[:,1].astype(int) # rounded down to nearest int\n",
    "    hu_samples = (samples_params[:,2]*num_features).astype(int) # base of 10 neurons used for each level\n",
    "    beta = samples_params[:,3]\n",
    "    k_p = samples_params[:,4]\n",
    "    \n",
    "    # save the data for the ranges used to the main sim file\n",
    "    utils.logging.info(\"lr_rng = \"+str(lr_rng)+\" hidden layers rng = \"+str(num_hid_layers_rng)+\" hidden units rng = \"+str(size_hid_layers_rng)+\" num sims = %d\", num_sims)\n",
    "    \n",
    "    results = np.array([0.0,0.0,0.0,0.0,0.0,0.0,0.0,0.0,0.0,0.0])\n",
    "    \n",
    "    if parallel: # Need cores \n",
    "        print(\"parallelizing the training\") # add parallel ability for specified number of cores similar to funct above\n",
    "        results = multi_sim(X_train, Y_train, X_dev, Y_dev, X_test, Y_test, lr_samples, beta, k_p, reg_type,\n",
    "                            num_epochs, hl_samples, hu_samples, minibatch_size, log_dir, True, False, 10, \n",
    "                            100, True, cores)\n",
    "        print(results)\n",
    "    else:\n",
    "        for i in range(len(lr_samples)):\n",
    "            results2 = model(X_train, Y_train, X_dev, Y_dev, lr_samples[i], beta[i], k_p[i], reg_type,\n",
    "                                                                 num_epochs, hl_samples[i], hu_samples[i], minibatch_size, \n",
    "                                                                log_dir, False, False, 10, 100, False, 0) # call model funct            temp_results = np.array([lr_samples[i], hl_samples[i], hu_samples[i], beta[i], k_p[i], num_epochs, train_err, dev_err, test_err, min_epoch, min_dev])\n",
    "            train_err, Y_train, train_pred, Y_dev, dev_pred, dev_err, min_dev, min_epoch = results2\n",
    "            temp_results = np.array([lr_samples[i], hl_samples[i], hu_samples[i], beta[i], k_p[i], num_epochs, train_err[-1], dev_err[-1], min_epoch, min_dev])\n",
    "            #utils.set_logger(os.path.join(cwd+\"/\"+log_dir,log_dir+'.log')) # reset logger to main log file\n",
    "            utils.logging.info(\"START OF NEW MODEL\")\n",
    "            utils.logging.info(\"learning rate = %f, hidden layers = %d, hidden units = %d, beta = %f, keep_prob = %f, epochs = %d, reg_type = %s\", lr_samples[i], hl_samples[i], hu_samples[i], beta[i], k_p[i], num_epochs, reg_type) # add other hyperparams\n",
    "            utils.logging.info(\"Train Err = %f, Dev Err = %f, Min Dev Err = %f, Min Epoch = %d\", train_err[-1], dev_err[-1], min_dev, min_epoch) # add other hyperparams\n",
    "            print(results, temp_results)\n",
    "            results = np.vstack((results,temp_results))# get all results in a list\n",
    "        \n",
    "        # results contain an array of the parameters and then the resulting errors\n",
    "        results = results[1:,:] # get rid of placeholder row\n",
    "        results= results[results[:,-1].argsort()] # sort by the lowest dev error\n",
    "        utils.logging.info(\"RESULTS\")\n",
    "        utils.logging.info(str(results))\n",
    "    return results"
   ]
  },
  {
   "cell_type": "code",
   "execution_count": 98,
   "metadata": {
    "collapsed": false
   },
   "outputs": [
    {
     "name": "stderr",
     "output_type": "stream",
     "text": [
      "INFO:root:lr_rng = [-4.0, -2.0] hidden layers rng = [3.0, 7.0] hidden units rng = [1.0, 4.0] num sims = 10\n"
     ]
    },
    {
     "name": "stdout",
     "output_type": "stream",
     "text": [
      "('Loss: ', 11.194795)\n",
      "('Loss: ', 10.773816)\n",
      "('Loss: ', 10.384185)\n",
      "('Loss: ', 10.017539)\n",
      "('Loss: ', 9.669227)\n",
      "('Loss: ', 9.329903)\n",
      "('Loss: ', 8.997252)\n",
      "('Loss: ', 8.686235)\n",
      "('Loss: ', 8.402469)\n",
      "('Loss: ', 8.136931)\n"
     ]
    },
    {
     "name": "stderr",
     "output_type": "stream",
     "text": [
      "INFO:root:START OF NEW MODEL\n",
      "INFO:root:learning rate = 0.003593, hidden layers = 3, hidden units = 59, beta = 0.028972, keep_prob = 0.994520, epochs = 10, reg_type = L2\n",
      "INFO:root:Train Err = 0.676826, Dev Err = 0.701301, Min Dev Err = 0.701301, Min Epoch = 10\n"
     ]
    },
    {
     "name": "stdout",
     "output_type": "stream",
     "text": [
      "('Loss: ', 7.85983)\n",
      "('Train error: ', 0.6768264678117101)\n",
      "('Dev error: ', 0.7013007656362873)\n",
      "(array([0., 0., 0., 0., 0., 0., 0., 0., 0., 0.]), array([3.59256654e-03, 3.00000000e+00, 5.90000000e+01, 2.89724759e-02,\n",
      "       9.94520223e-01, 1.00000000e+01, 6.76826468e-01, 7.01300766e-01,\n",
      "       1.00000000e+01, 7.01300766e-01]))\n",
      "('Loss: ', 11.158493)\n",
      "('Loss: ', 11.062726)\n",
      "('Loss: ', 10.969989)\n",
      "('Loss: ', 10.883774)\n",
      "('Loss: ', 10.802654)\n",
      "('Loss: ', 10.722856)\n",
      "('Loss: ', 10.641981)\n",
      "('Loss: ', 10.558718)\n",
      "('Loss: ', 10.47183)\n",
      "('Loss: ', 10.381342)\n"
     ]
    },
    {
     "name": "stderr",
     "output_type": "stream",
     "text": [
      "INFO:root:START OF NEW MODEL\n",
      "INFO:root:learning rate = 0.000807, hidden layers = 5, hidden units = 56, beta = 0.019248, keep_prob = 0.944404, epochs = 10, reg_type = L2\n",
      "INFO:root:Train Err = 0.917654, Dev Err = 0.898823, Min Dev Err = 0.898823, Min Epoch = 10\n"
     ]
    },
    {
     "name": "stdout",
     "output_type": "stream",
     "text": [
      "('Loss: ', 10.286322)\n",
      "('Train error: ', 0.9176538905238912)\n",
      "('Dev error: ', 0.898823245336674)\n",
      "(array([[0.00000000e+00, 0.00000000e+00, 0.00000000e+00, 0.00000000e+00,\n",
      "        0.00000000e+00, 0.00000000e+00, 0.00000000e+00, 0.00000000e+00,\n",
      "        0.00000000e+00, 0.00000000e+00],\n",
      "       [3.59256654e-03, 3.00000000e+00, 5.90000000e+01, 2.89724759e-02,\n",
      "        9.94520223e-01, 1.00000000e+01, 6.76826468e-01, 7.01300766e-01,\n",
      "        1.00000000e+01, 7.01300766e-01]]), array([8.07046382e-04, 5.00000000e+00, 5.60000000e+01, 1.92484003e-02,\n",
      "       9.44403646e-01, 1.00000000e+01, 9.17653891e-01, 8.98823245e-01,\n",
      "       1.00000000e+01, 8.98823245e-01]))\n",
      "('Loss: ', 9.2986965)\n",
      "('Loss: ', 9.293354)\n",
      "('Loss: ', 9.287997)\n",
      "('Loss: ', 9.282626)\n",
      "('Loss: ', 9.277239)\n",
      "('Loss: ', 9.271837)\n",
      "('Loss: ', 9.266423)\n",
      "('Loss: ', 9.26099)\n",
      "('Loss: ', 9.255541)\n",
      "('Loss: ', 9.250076)\n"
     ]
    },
    {
     "name": "stderr",
     "output_type": "stream",
     "text": [
      "INFO:root:START OF NEW MODEL\n",
      "INFO:root:learning rate = 0.000118, hidden layers = 4, hidden units = 19, beta = 0.025712, keep_prob = 0.874571, epochs = 10, reg_type = L2\n",
      "INFO:root:Train Err = 0.957465, Dev Err = 0.933631, Min Dev Err = 0.933631, Min Epoch = 10\n"
     ]
    },
    {
     "name": "stdout",
     "output_type": "stream",
     "text": [
      "('Loss: ', 9.2445965)\n",
      "('Train error: ', 0.9574652982740638)\n",
      "('Dev error: ', 0.9336314489066464)\n",
      "(array([[0.00000000e+00, 0.00000000e+00, 0.00000000e+00, 0.00000000e+00,\n",
      "        0.00000000e+00, 0.00000000e+00, 0.00000000e+00, 0.00000000e+00,\n",
      "        0.00000000e+00, 0.00000000e+00],\n",
      "       [3.59256654e-03, 3.00000000e+00, 5.90000000e+01, 2.89724759e-02,\n",
      "        9.94520223e-01, 1.00000000e+01, 6.76826468e-01, 7.01300766e-01,\n",
      "        1.00000000e+01, 7.01300766e-01],\n",
      "       [8.07046382e-04, 5.00000000e+00, 5.60000000e+01, 1.92484003e-02,\n",
      "        9.44403646e-01, 1.00000000e+01, 9.17653891e-01, 8.98823245e-01,\n",
      "        1.00000000e+01, 8.98823245e-01]]), array([1.17509519e-04, 4.00000000e+00, 1.90000000e+01, 2.57118283e-02,\n",
      "       8.74570806e-01, 1.00000000e+01, 9.57465298e-01, 9.33631449e-01,\n",
      "       1.00000000e+01, 9.33631449e-01]))\n",
      "('Loss: ', 8.84255)\n",
      "('Loss: ', 8.762765)\n",
      "('Loss: ', 8.688566)\n",
      "('Loss: ', 8.622213)\n",
      "('Loss: ', 8.561716)\n",
      "('Loss: ', 8.49847)\n",
      "('Loss: ', 8.427336)\n",
      "('Loss: ', 8.347649)\n",
      "('Loss: ', 8.257482)\n",
      "('Loss: ', 8.154713)\n"
     ]
    },
    {
     "name": "stderr",
     "output_type": "stream",
     "text": [
      "INFO:root:START OF NEW MODEL\n",
      "INFO:root:learning rate = 0.002289, hidden layers = 4, hidden units = 34, beta = 0.000282, keep_prob = 0.871667, epochs = 10, reg_type = L2\n",
      "INFO:root:Train Err = 0.906105, Dev Err = 0.884535, Min Dev Err = 0.884535, Min Epoch = 10\n"
     ]
    },
    {
     "name": "stdout",
     "output_type": "stream",
     "text": [
      "('Loss: ', 8.035536)\n",
      "('Train error: ', 0.9061049640125797)\n",
      "('Dev error: ', 0.8845353788728955)\n",
      "(array([[0.00000000e+00, 0.00000000e+00, 0.00000000e+00, 0.00000000e+00,\n",
      "        0.00000000e+00, 0.00000000e+00, 0.00000000e+00, 0.00000000e+00,\n",
      "        0.00000000e+00, 0.00000000e+00],\n",
      "       [3.59256654e-03, 3.00000000e+00, 5.90000000e+01, 2.89724759e-02,\n",
      "        9.94520223e-01, 1.00000000e+01, 6.76826468e-01, 7.01300766e-01,\n",
      "        1.00000000e+01, 7.01300766e-01],\n",
      "       [8.07046382e-04, 5.00000000e+00, 5.60000000e+01, 1.92484003e-02,\n",
      "        9.44403646e-01, 1.00000000e+01, 9.17653891e-01, 8.98823245e-01,\n",
      "        1.00000000e+01, 8.98823245e-01],\n",
      "       [1.17509519e-04, 4.00000000e+00, 1.90000000e+01, 2.57118283e-02,\n",
      "        8.74570806e-01, 1.00000000e+01, 9.57465298e-01, 9.33631449e-01,\n",
      "        1.00000000e+01, 9.33631449e-01]]), array([2.28926413e-03, 4.00000000e+00, 3.40000000e+01, 2.82383102e-04,\n",
      "       8.71666757e-01, 1.00000000e+01, 9.06104964e-01, 8.84535379e-01,\n",
      "       1.00000000e+01, 8.84535379e-01]))\n",
      "('Loss: ', 9.901447)\n",
      "('Loss: ', 9.478218)\n",
      "('Loss: ', 9.071529)\n",
      "('Loss: ', 8.655647)\n",
      "('Loss: ', 8.232715)\n",
      "('Loss: ', 7.8308983)\n",
      "('Loss: ', 7.447753)\n",
      "('Loss: ', 6.9818487)\n",
      "('Loss: ', 6.3401537)\n",
      "('Loss: ', 5.588002)\n",
      "('Loss: ', 5.0907745)\n"
     ]
    },
    {
     "name": "stderr",
     "output_type": "stream",
     "text": [
      "INFO:root:START OF NEW MODEL\n",
      "INFO:root:learning rate = 0.007910, hidden layers = 3, hidden units = 33, beta = 0.027533, keep_prob = 0.806381, epochs = 10, reg_type = L2\n",
      "INFO:root:Train Err = 0.478698, Dev Err = 0.511986, Min Dev Err = 0.511986, Min Epoch = 10\n"
     ]
    },
    {
     "name": "stdout",
     "output_type": "stream",
     "text": [
      "('Train error: ', 0.4786983326496947)\n",
      "('Dev error: ', 0.5119859244198864)\n",
      "(array([[0.00000000e+00, 0.00000000e+00, 0.00000000e+00, 0.00000000e+00,\n",
      "        0.00000000e+00, 0.00000000e+00, 0.00000000e+00, 0.00000000e+00,\n",
      "        0.00000000e+00, 0.00000000e+00],\n",
      "       [3.59256654e-03, 3.00000000e+00, 5.90000000e+01, 2.89724759e-02,\n",
      "        9.94520223e-01, 1.00000000e+01, 6.76826468e-01, 7.01300766e-01,\n",
      "        1.00000000e+01, 7.01300766e-01],\n",
      "       [8.07046382e-04, 5.00000000e+00, 5.60000000e+01, 1.92484003e-02,\n",
      "        9.44403646e-01, 1.00000000e+01, 9.17653891e-01, 8.98823245e-01,\n",
      "        1.00000000e+01, 8.98823245e-01],\n",
      "       [1.17509519e-04, 4.00000000e+00, 1.90000000e+01, 2.57118283e-02,\n",
      "        8.74570806e-01, 1.00000000e+01, 9.57465298e-01, 9.33631449e-01,\n",
      "        1.00000000e+01, 9.33631449e-01],\n",
      "       [2.28926413e-03, 4.00000000e+00, 3.40000000e+01, 2.82383102e-04,\n",
      "        8.71666757e-01, 1.00000000e+01, 9.06104964e-01, 8.84535379e-01,\n",
      "        1.00000000e+01, 8.84535379e-01]]), array([7.91021638e-03, 3.00000000e+00, 3.30000000e+01, 2.75331716e-02,\n",
      "       8.06380733e-01, 1.00000000e+01, 4.78698333e-01, 5.11985924e-01,\n",
      "       1.00000000e+01, 5.11985924e-01]))\n",
      "('Loss: ', 8.976929)\n",
      "('Loss: ', 8.963158)\n",
      "('Loss: ', 8.949594)\n",
      "('Loss: ', 8.936239)\n",
      "('Loss: ', 8.923096)\n",
      "('Loss: ', 8.910159)\n",
      "('Loss: ', 8.897432)\n",
      "('Loss: ', 8.884918)\n",
      "('Loss: ', 8.8726225)\n",
      "('Loss: ', 8.860555)\n"
     ]
    },
    {
     "name": "stderr",
     "output_type": "stream",
     "text": [
      "INFO:root:START OF NEW MODEL\n",
      "INFO:root:learning rate = 0.000135, hidden layers = 5, hidden units = 61, beta = 0.000261, keep_prob = 0.949315, epochs = 10, reg_type = L2\n",
      "INFO:root:Train Err = 1.012320, Dev Err = 1.013937, Min Dev Err = 1.013937, Min Epoch = 10\n"
     ]
    },
    {
     "name": "stdout",
     "output_type": "stream",
     "text": [
      "('Loss: ', 8.848724)\n",
      "('Train error: ', 1.012320170209405)\n",
      "('Dev error: ', 1.0139368124641688)\n",
      "(array([[0.00000000e+00, 0.00000000e+00, 0.00000000e+00, 0.00000000e+00,\n",
      "        0.00000000e+00, 0.00000000e+00, 0.00000000e+00, 0.00000000e+00,\n",
      "        0.00000000e+00, 0.00000000e+00],\n",
      "       [3.59256654e-03, 3.00000000e+00, 5.90000000e+01, 2.89724759e-02,\n",
      "        9.94520223e-01, 1.00000000e+01, 6.76826468e-01, 7.01300766e-01,\n",
      "        1.00000000e+01, 7.01300766e-01],\n",
      "       [8.07046382e-04, 5.00000000e+00, 5.60000000e+01, 1.92484003e-02,\n",
      "        9.44403646e-01, 1.00000000e+01, 9.17653891e-01, 8.98823245e-01,\n",
      "        1.00000000e+01, 8.98823245e-01],\n",
      "       [1.17509519e-04, 4.00000000e+00, 1.90000000e+01, 2.57118283e-02,\n",
      "        8.74570806e-01, 1.00000000e+01, 9.57465298e-01, 9.33631449e-01,\n",
      "        1.00000000e+01, 9.33631449e-01],\n",
      "       [2.28926413e-03, 4.00000000e+00, 3.40000000e+01, 2.82383102e-04,\n",
      "        8.71666757e-01, 1.00000000e+01, 9.06104964e-01, 8.84535379e-01,\n",
      "        1.00000000e+01, 8.84535379e-01],\n",
      "       [7.91021638e-03, 3.00000000e+00, 3.30000000e+01, 2.75331716e-02,\n",
      "        8.06380733e-01, 1.00000000e+01, 4.78698333e-01, 5.11985924e-01,\n",
      "        1.00000000e+01, 5.11985924e-01]]), array([1.34948815e-04, 5.00000000e+00, 6.10000000e+01, 2.61471969e-04,\n",
      "       9.49315447e-01, 1.00000000e+01, 1.01232017e+00, 1.01393681e+00,\n",
      "       1.00000000e+01, 1.01393681e+00]))\n",
      "('Loss: ', 9.867889)\n",
      "('Loss: ', 9.52896)\n",
      "('Loss: ', 9.237037)\n",
      "('Loss: ', 8.944983)\n",
      "('Loss: ', 8.643955)\n",
      "('Loss: ', 8.318943)\n",
      "('Loss: ', 7.962909)\n",
      "('Loss: ', 7.5707445)\n",
      "('Loss: ', 7.1542907)\n",
      "('Loss: ', 6.7266006)\n"
     ]
    },
    {
     "name": "stderr",
     "output_type": "stream",
     "text": [
      "INFO:root:START OF NEW MODEL\n",
      "INFO:root:learning rate = 0.004224, hidden layers = 3, hidden units = 50, beta = 0.015278, keep_prob = 0.895977, epochs = 10, reg_type = L2\n",
      "INFO:root:Train Err = 0.588223, Dev Err = 0.633570, Min Dev Err = 0.633570, Min Epoch = 10\n"
     ]
    },
    {
     "name": "stdout",
     "output_type": "stream",
     "text": [
      "('Loss: ', 6.297142)\n",
      "('Train error: ', 0.5882228837801242)\n",
      "('Dev error: ', 0.6335704111660332)\n",
      "(array([[0.00000000e+00, 0.00000000e+00, 0.00000000e+00, 0.00000000e+00,\n",
      "        0.00000000e+00, 0.00000000e+00, 0.00000000e+00, 0.00000000e+00,\n",
      "        0.00000000e+00, 0.00000000e+00],\n",
      "       [3.59256654e-03, 3.00000000e+00, 5.90000000e+01, 2.89724759e-02,\n",
      "        9.94520223e-01, 1.00000000e+01, 6.76826468e-01, 7.01300766e-01,\n",
      "        1.00000000e+01, 7.01300766e-01],\n",
      "       [8.07046382e-04, 5.00000000e+00, 5.60000000e+01, 1.92484003e-02,\n",
      "        9.44403646e-01, 1.00000000e+01, 9.17653891e-01, 8.98823245e-01,\n",
      "        1.00000000e+01, 8.98823245e-01],\n",
      "       [1.17509519e-04, 4.00000000e+00, 1.90000000e+01, 2.57118283e-02,\n",
      "        8.74570806e-01, 1.00000000e+01, 9.57465298e-01, 9.33631449e-01,\n",
      "        1.00000000e+01, 9.33631449e-01],\n",
      "       [2.28926413e-03, 4.00000000e+00, 3.40000000e+01, 2.82383102e-04,\n",
      "        8.71666757e-01, 1.00000000e+01, 9.06104964e-01, 8.84535379e-01,\n",
      "        1.00000000e+01, 8.84535379e-01],\n",
      "       [7.91021638e-03, 3.00000000e+00, 3.30000000e+01, 2.75331716e-02,\n",
      "        8.06380733e-01, 1.00000000e+01, 4.78698333e-01, 5.11985924e-01,\n",
      "        1.00000000e+01, 5.11985924e-01],\n",
      "       [1.34948815e-04, 5.00000000e+00, 6.10000000e+01, 2.61471969e-04,\n",
      "        9.49315447e-01, 1.00000000e+01, 1.01232017e+00, 1.01393681e+00,\n",
      "        1.00000000e+01, 1.01393681e+00]]), array([4.22359573e-03, 3.00000000e+00, 5.00000000e+01, 1.52778660e-02,\n",
      "       8.95976678e-01, 1.00000000e+01, 5.88222884e-01, 6.33570411e-01,\n",
      "       1.00000000e+01, 6.33570411e-01]))\n",
      "('Loss: ', 9.599265)\n",
      "('Loss: ', 9.272178)\n",
      "('Loss: ', 8.997309)\n",
      "('Loss: ', 8.650001)\n",
      "('Loss: ', 8.223462)\n",
      "('Loss: ', 7.735519)\n",
      "('Loss: ', 7.241617)\n",
      "('Loss: ', 6.781793)\n",
      "('Loss: ', 6.3422565)\n",
      "('Loss: ', 5.843469)\n"
     ]
    },
    {
     "name": "stderr",
     "output_type": "stream",
     "text": [
      "INFO:root:START OF NEW MODEL\n",
      "INFO:root:learning rate = 0.008150, hidden layers = 3, hidden units = 29, beta = 0.021367, keep_prob = 0.864916, epochs = 10, reg_type = L2\n",
      "INFO:root:Train Err = 0.484843, Dev Err = 0.595836, Min Dev Err = 0.595836, Min Epoch = 10\n"
     ]
    },
    {
     "name": "stdout",
     "output_type": "stream",
     "text": [
      "('Loss: ', 5.300626)\n",
      "('Train error: ', 0.4848428373216674)\n",
      "('Dev error: ', 0.595836145206879)\n",
      "(array([[0.00000000e+00, 0.00000000e+00, 0.00000000e+00, 0.00000000e+00,\n",
      "        0.00000000e+00, 0.00000000e+00, 0.00000000e+00, 0.00000000e+00,\n",
      "        0.00000000e+00, 0.00000000e+00],\n",
      "       [3.59256654e-03, 3.00000000e+00, 5.90000000e+01, 2.89724759e-02,\n",
      "        9.94520223e-01, 1.00000000e+01, 6.76826468e-01, 7.01300766e-01,\n",
      "        1.00000000e+01, 7.01300766e-01],\n",
      "       [8.07046382e-04, 5.00000000e+00, 5.60000000e+01, 1.92484003e-02,\n",
      "        9.44403646e-01, 1.00000000e+01, 9.17653891e-01, 8.98823245e-01,\n",
      "        1.00000000e+01, 8.98823245e-01],\n",
      "       [1.17509519e-04, 4.00000000e+00, 1.90000000e+01, 2.57118283e-02,\n",
      "        8.74570806e-01, 1.00000000e+01, 9.57465298e-01, 9.33631449e-01,\n",
      "        1.00000000e+01, 9.33631449e-01],\n",
      "       [2.28926413e-03, 4.00000000e+00, 3.40000000e+01, 2.82383102e-04,\n",
      "        8.71666757e-01, 1.00000000e+01, 9.06104964e-01, 8.84535379e-01,\n",
      "        1.00000000e+01, 8.84535379e-01],\n",
      "       [7.91021638e-03, 3.00000000e+00, 3.30000000e+01, 2.75331716e-02,\n",
      "        8.06380733e-01, 1.00000000e+01, 4.78698333e-01, 5.11985924e-01,\n",
      "        1.00000000e+01, 5.11985924e-01],\n",
      "       [1.34948815e-04, 5.00000000e+00, 6.10000000e+01, 2.61471969e-04,\n",
      "        9.49315447e-01, 1.00000000e+01, 1.01232017e+00, 1.01393681e+00,\n",
      "        1.00000000e+01, 1.01393681e+00],\n",
      "       [4.22359573e-03, 3.00000000e+00, 5.00000000e+01, 1.52778660e-02,\n",
      "        8.95976678e-01, 1.00000000e+01, 5.88222884e-01, 6.33570411e-01,\n",
      "        1.00000000e+01, 6.33570411e-01]]), array([8.14982512e-03, 3.00000000e+00, 2.90000000e+01, 2.13669803e-02,\n",
      "       8.64916410e-01, 1.00000000e+01, 4.84842837e-01, 5.95836145e-01,\n",
      "       1.00000000e+01, 5.95836145e-01]))\n",
      "('Loss: ', 9.716756)\n",
      "('Loss: ', 9.6709585)\n",
      "('Loss: ', 9.624966)\n",
      "('Loss: ', 9.579043)\n",
      "('Loss: ', 9.533763)\n",
      "('Loss: ', 9.489095)\n",
      "('Loss: ', 9.44473)\n",
      "('Loss: ', 9.400622)\n",
      "('Loss: ', 9.356796)\n",
      "('Loss: ', 9.313058)\n"
     ]
    },
    {
     "name": "stderr",
     "output_type": "stream",
     "text": [
      "INFO:root:START OF NEW MODEL\n",
      "INFO:root:learning rate = 0.000358, hidden layers = 5, hidden units = 63, beta = 0.007334, keep_prob = 0.891617, epochs = 10, reg_type = L2\n",
      "INFO:root:Train Err = 0.948097, Dev Err = 0.940590, Min Dev Err = 0.940590, Min Epoch = 10\n"
     ]
    },
    {
     "name": "stdout",
     "output_type": "stream",
     "text": [
      "('Loss: ', 9.268879)\n",
      "('Train error: ', 0.948096615215385)\n",
      "('Dev error: ', 0.9405899185669306)\n",
      "(array([[0.00000000e+00, 0.00000000e+00, 0.00000000e+00, 0.00000000e+00,\n",
      "        0.00000000e+00, 0.00000000e+00, 0.00000000e+00, 0.00000000e+00,\n",
      "        0.00000000e+00, 0.00000000e+00],\n",
      "       [3.59256654e-03, 3.00000000e+00, 5.90000000e+01, 2.89724759e-02,\n",
      "        9.94520223e-01, 1.00000000e+01, 6.76826468e-01, 7.01300766e-01,\n",
      "        1.00000000e+01, 7.01300766e-01],\n",
      "       [8.07046382e-04, 5.00000000e+00, 5.60000000e+01, 1.92484003e-02,\n",
      "        9.44403646e-01, 1.00000000e+01, 9.17653891e-01, 8.98823245e-01,\n",
      "        1.00000000e+01, 8.98823245e-01],\n",
      "       [1.17509519e-04, 4.00000000e+00, 1.90000000e+01, 2.57118283e-02,\n",
      "        8.74570806e-01, 1.00000000e+01, 9.57465298e-01, 9.33631449e-01,\n",
      "        1.00000000e+01, 9.33631449e-01],\n",
      "       [2.28926413e-03, 4.00000000e+00, 3.40000000e+01, 2.82383102e-04,\n",
      "        8.71666757e-01, 1.00000000e+01, 9.06104964e-01, 8.84535379e-01,\n",
      "        1.00000000e+01, 8.84535379e-01],\n",
      "       [7.91021638e-03, 3.00000000e+00, 3.30000000e+01, 2.75331716e-02,\n",
      "        8.06380733e-01, 1.00000000e+01, 4.78698333e-01, 5.11985924e-01,\n",
      "        1.00000000e+01, 5.11985924e-01],\n",
      "       [1.34948815e-04, 5.00000000e+00, 6.10000000e+01, 2.61471969e-04,\n",
      "        9.49315447e-01, 1.00000000e+01, 1.01232017e+00, 1.01393681e+00,\n",
      "        1.00000000e+01, 1.01393681e+00],\n",
      "       [4.22359573e-03, 3.00000000e+00, 5.00000000e+01, 1.52778660e-02,\n",
      "        8.95976678e-01, 1.00000000e+01, 5.88222884e-01, 6.33570411e-01,\n",
      "        1.00000000e+01, 6.33570411e-01],\n",
      "       [8.14982512e-03, 3.00000000e+00, 2.90000000e+01, 2.13669803e-02,\n",
      "        8.64916410e-01, 1.00000000e+01, 4.84842837e-01, 5.95836145e-01,\n",
      "        1.00000000e+01, 5.95836145e-01]]), array([3.58090428e-04, 5.00000000e+00, 6.30000000e+01, 7.33427107e-03,\n",
      "       8.91617163e-01, 1.00000000e+01, 9.48096615e-01, 9.40589919e-01,\n",
      "       1.00000000e+01, 9.40589919e-01]))\n",
      "('Loss: ', 10.756058)\n",
      "('Loss: ', 10.725182)\n",
      "('Loss: ', 10.6945095)\n",
      "('Loss: ', 10.664144)\n",
      "('Loss: ', 10.634234)\n",
      "('Loss: ', 10.60491)\n",
      "('Loss: ', 10.576272)\n",
      "('Loss: ', 10.548379)\n",
      "('Loss: ', 10.521222)\n",
      "('Loss: ', 10.494681)\n"
     ]
    },
    {
     "name": "stderr",
     "output_type": "stream",
     "text": [
      "INFO:root:START OF NEW MODEL\n",
      "INFO:root:learning rate = 0.000321, hidden layers = 4, hidden units = 47, beta = 0.023171, keep_prob = 0.813583, epochs = 10, reg_type = L2\n",
      "INFO:root:Train Err = 0.988848, Dev Err = 0.986171, Min Dev Err = 0.986171, Min Epoch = 10\n",
      "INFO:root:RESULTS\n",
      "INFO:root:[[7.91021638e-03 3.00000000e+00 3.30000000e+01 2.75331716e-02\n",
      "  8.06380733e-01 1.00000000e+01 4.78698333e-01 5.11985924e-01\n",
      "  1.00000000e+01 5.11985924e-01]\n",
      " [8.14982512e-03 3.00000000e+00 2.90000000e+01 2.13669803e-02\n",
      "  8.64916410e-01 1.00000000e+01 4.84842837e-01 5.95836145e-01\n",
      "  1.00000000e+01 5.95836145e-01]\n",
      " [4.22359573e-03 3.00000000e+00 5.00000000e+01 1.52778660e-02\n",
      "  8.95976678e-01 1.00000000e+01 5.88222884e-01 6.33570411e-01\n",
      "  1.00000000e+01 6.33570411e-01]\n",
      " [3.59256654e-03 3.00000000e+00 5.90000000e+01 2.89724759e-02\n",
      "  9.94520223e-01 1.00000000e+01 6.76826468e-01 7.01300766e-01\n",
      "  1.00000000e+01 7.01300766e-01]\n",
      " [2.28926413e-03 4.00000000e+00 3.40000000e+01 2.82383102e-04\n",
      "  8.71666757e-01 1.00000000e+01 9.06104964e-01 8.84535379e-01\n",
      "  1.00000000e+01 8.84535379e-01]\n",
      " [8.07046382e-04 5.00000000e+00 5.60000000e+01 1.92484003e-02\n",
      "  9.44403646e-01 1.00000000e+01 9.17653891e-01 8.98823245e-01\n",
      "  1.00000000e+01 8.98823245e-01]\n",
      " [1.17509519e-04 4.00000000e+00 1.90000000e+01 2.57118283e-02\n",
      "  8.74570806e-01 1.00000000e+01 9.57465298e-01 9.33631449e-01\n",
      "  1.00000000e+01 9.33631449e-01]\n",
      " [3.58090428e-04 5.00000000e+00 6.30000000e+01 7.33427107e-03\n",
      "  8.91617163e-01 1.00000000e+01 9.48096615e-01 9.40589919e-01\n",
      "  1.00000000e+01 9.40589919e-01]\n",
      " [3.20616129e-04 4.00000000e+00 4.70000000e+01 2.31713628e-02\n",
      "  8.13583499e-01 1.00000000e+01 9.88847965e-01 9.86170920e-01\n",
      "  1.00000000e+01 9.86170920e-01]\n",
      " [1.34948815e-04 5.00000000e+00 6.10000000e+01 2.61471969e-04\n",
      "  9.49315447e-01 1.00000000e+01 1.01232017e+00 1.01393681e+00\n",
      "  1.00000000e+01 1.01393681e+00]]\n"
     ]
    },
    {
     "name": "stdout",
     "output_type": "stream",
     "text": [
      "('Loss: ', 10.468632)\n",
      "('Train error: ', 0.9888479652774361)\n",
      "('Dev error: ', 0.986170920248669)\n",
      "(array([[0.00000000e+00, 0.00000000e+00, 0.00000000e+00, 0.00000000e+00,\n",
      "        0.00000000e+00, 0.00000000e+00, 0.00000000e+00, 0.00000000e+00,\n",
      "        0.00000000e+00, 0.00000000e+00],\n",
      "       [3.59256654e-03, 3.00000000e+00, 5.90000000e+01, 2.89724759e-02,\n",
      "        9.94520223e-01, 1.00000000e+01, 6.76826468e-01, 7.01300766e-01,\n",
      "        1.00000000e+01, 7.01300766e-01],\n",
      "       [8.07046382e-04, 5.00000000e+00, 5.60000000e+01, 1.92484003e-02,\n",
      "        9.44403646e-01, 1.00000000e+01, 9.17653891e-01, 8.98823245e-01,\n",
      "        1.00000000e+01, 8.98823245e-01],\n",
      "       [1.17509519e-04, 4.00000000e+00, 1.90000000e+01, 2.57118283e-02,\n",
      "        8.74570806e-01, 1.00000000e+01, 9.57465298e-01, 9.33631449e-01,\n",
      "        1.00000000e+01, 9.33631449e-01],\n",
      "       [2.28926413e-03, 4.00000000e+00, 3.40000000e+01, 2.82383102e-04,\n",
      "        8.71666757e-01, 1.00000000e+01, 9.06104964e-01, 8.84535379e-01,\n",
      "        1.00000000e+01, 8.84535379e-01],\n",
      "       [7.91021638e-03, 3.00000000e+00, 3.30000000e+01, 2.75331716e-02,\n",
      "        8.06380733e-01, 1.00000000e+01, 4.78698333e-01, 5.11985924e-01,\n",
      "        1.00000000e+01, 5.11985924e-01],\n",
      "       [1.34948815e-04, 5.00000000e+00, 6.10000000e+01, 2.61471969e-04,\n",
      "        9.49315447e-01, 1.00000000e+01, 1.01232017e+00, 1.01393681e+00,\n",
      "        1.00000000e+01, 1.01393681e+00],\n",
      "       [4.22359573e-03, 3.00000000e+00, 5.00000000e+01, 1.52778660e-02,\n",
      "        8.95976678e-01, 1.00000000e+01, 5.88222884e-01, 6.33570411e-01,\n",
      "        1.00000000e+01, 6.33570411e-01],\n",
      "       [8.14982512e-03, 3.00000000e+00, 2.90000000e+01, 2.13669803e-02,\n",
      "        8.64916410e-01, 1.00000000e+01, 4.84842837e-01, 5.95836145e-01,\n",
      "        1.00000000e+01, 5.95836145e-01],\n",
      "       [3.58090428e-04, 5.00000000e+00, 6.30000000e+01, 7.33427107e-03,\n",
      "        8.91617163e-01, 1.00000000e+01, 9.48096615e-01, 9.40589919e-01,\n",
      "        1.00000000e+01, 9.40589919e-01]]), array([3.20616129e-04, 4.00000000e+00, 4.70000000e+01, 2.31713628e-02,\n",
      "       8.13583499e-01, 1.00000000e+01, 9.88847965e-01, 9.86170920e-01,\n",
      "       1.00000000e+01, 9.86170920e-01]))\n"
     ]
    }
   ],
   "source": [
    "log_dir = \"logOut/\"\n",
    "y_ind = 0 # which of the metabolic vectors to predict\n",
    "learning_rate = 0.008#0.0005\n",
    "num_epochs = 10 # total number of epochs to iterate through\n",
    "print_interval = 10 # number of prints\n",
    "plot_interval = 10 # data points in the plots\n",
    "minibatch_size = 10 # NOT IMPLEMENTED YET\n",
    "num_hid_layers = 3\n",
    "size_hid_layers = 10\n",
    "printing = True # True prints the losses and train/test errors as the network is trained\n",
    "plotting = True\n",
    "num_sims = 10 # number of simulations run for the hyperparamSearch\n",
    "\n",
    "# Here we are assuming we're not normalizing the Y data\n",
    "Y_train = y_train[:,y_ind].T\n",
    "Y_dev = y_dev[:,y_ind].T\n",
    "\n",
    "#train_err, dev_err, test_err = model(X_train, Y_train, X_dev, Y_dev, X_test, Y_test, learning_rate, \n",
    "    #num_epochs, num_hid_layers, size_hid_layers, minibatch_size, log_dir, printing, plotting, print_interval, plot_interval)\n",
    "\n",
    "# define the ranges for the hyperparam search\n",
    "lr_rng = [-4.,-2.] # range of lr will be done with these values use as 10^r for log scale\n",
    "num_hid_layers_rng = [3.0,7.0] # these will be rounded down to nearest Int so add 1 more to value desired for upper bound\n",
    "size_hid_layers_rng = [1.0, 4.0] # These values are multiplied by the number of input features\n",
    "beta_rng = [0.0, 0.03] # regularization coefficient range\n",
    "k_p_rng = [0.8, 1.0] # dropout \"keep probability\" range\n",
    "reg_type = \"L2\" # set to type of desired regularization \"L2\", \"none\" (I don't think L1 is necessary since we don't want feature selection)\n",
    "parallel = False\n",
    "cores = 2 # number of cores to run parallel trials\n",
    "if parallel:\n",
    "    num_sims = cores # make this match for now to test it\n",
    "# run a hyperparamSearch\n",
    "results = hyperparamSearch(X_train, Y_train, X_dev, Y_dev, lr_rng, num_hid_layers_rng, beta_rng, k_p_rng, reg_type,\n",
    "                 size_hid_layers_rng, num_sims, num_epochs, minibatch_size, log_dir, parallel, cores)"
   ]
  },
  {
   "cell_type": "code",
   "execution_count": null,
   "metadata": {
    "collapsed": true
   },
   "outputs": [],
   "source": []
  },
  {
   "cell_type": "code",
   "execution_count": null,
   "metadata": {
    "collapsed": true
   },
   "outputs": [],
   "source": []
  }
 ],
 "metadata": {
  "anaconda-cloud": {},
  "kernelspec": {
   "display_name": "Python [default]",
   "language": "python",
   "name": "python2"
  },
  "language_info": {
   "codemirror_mode": {
    "name": "ipython",
    "version": 2
   },
   "file_extension": ".py",
   "mimetype": "text/x-python",
   "name": "python",
   "nbconvert_exporter": "python",
   "pygments_lexer": "ipython2",
   "version": "2.7.12"
  }
 },
 "nbformat": 4,
 "nbformat_minor": 2
}
